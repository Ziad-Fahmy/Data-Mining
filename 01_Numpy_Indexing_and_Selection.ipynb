{
  "cells": [
    {
      "cell_type": "markdown",
      "metadata": {
        "id": "view-in-github",
        "colab_type": "text"
      },
      "source": [
        "<a href=\"https://colab.research.google.com/github/Ziad-Fahmy/Data-Mining/blob/main/01_Numpy_Indexing_and_Selection.ipynb\" target=\"_parent\"><img src=\"https://colab.research.google.com/assets/colab-badge.svg\" alt=\"Open In Colab\"/></a>"
      ]
    },
    {
      "cell_type": "markdown",
      "metadata": {
        "id": "qW_RehoVEbBA"
      },
      "source": [
        "# NumPy Indexing and Selection\n",
        "\n",
        "In this lecture we will discuss how to select elements or groups of elements from an array.\n",
        "\n",
        "\n",
        "* 1) Indexing\n",
        "    - 1.1) Indexing 1D array (Vectors)\n",
        "    - 1.2) Indexing 2D array (Matrices)\n",
        "    - 1.3) Fancy Indexing\n",
        "* 2) Selection"
      ]
    },
    {
      "cell_type": "code",
      "execution_count": null,
      "metadata": {
        "id": "PDYKQSdQEbBB"
      },
      "outputs": [],
      "source": [
        "import numpy as np"
      ]
    },
    {
      "cell_type": "code",
      "execution_count": null,
      "metadata": {
        "id": "A7Y_WtlsEbBC"
      },
      "outputs": [],
      "source": [
        "#Creating sample array\n",
        "arr = np.arange(30,40)"
      ]
    },
    {
      "cell_type": "code",
      "execution_count": null,
      "metadata": {
        "id": "jp8gckf3EbBC",
        "outputId": "e7bc110a-87c6-44e7-8a53-431c5c4203bd"
      },
      "outputs": [
        {
          "data": {
            "text/plain": [
              "array([30, 31, 32, 33, 34, 35, 36, 37, 38, 39])"
            ]
          },
          "execution_count": 3,
          "metadata": {},
          "output_type": "execute_result"
        }
      ],
      "source": [
        "#Show\n",
        "arr"
      ]
    },
    {
      "cell_type": "markdown",
      "metadata": {
        "id": "Kx0qyQJZEbBD"
      },
      "source": [
        "## 1) Indexing\n",
        "The simplest way to pick one or some elements of an array looks very similar to python lists:"
      ]
    },
    {
      "cell_type": "markdown",
      "metadata": {
        "id": "PXnVdCepEbBD"
      },
      "source": [
        "### 1.1) Indexing a 1D array (Vectors)"
      ]
    },
    {
      "cell_type": "code",
      "execution_count": null,
      "metadata": {
        "id": "RosK8VaZEbBE",
        "outputId": "f8a7530d-dbb1-4aba-f56a-1653bc1ebfbc"
      },
      "outputs": [
        {
          "data": {
            "text/plain": [
              "38"
            ]
          },
          "execution_count": 4,
          "metadata": {},
          "output_type": "execute_result"
        }
      ],
      "source": [
        "#Get a value at an index\n",
        "arr[8]"
      ]
    },
    {
      "cell_type": "code",
      "execution_count": null,
      "metadata": {
        "id": "lxhsTcavEbBE",
        "outputId": "52ad486e-9ee3-4378-af7f-b1fa0721550d"
      },
      "outputs": [
        {
          "data": {
            "text/plain": [
              "array([31, 32, 33, 34])"
            ]
          },
          "execution_count": 5,
          "metadata": {},
          "output_type": "execute_result"
        }
      ],
      "source": [
        "#Get values in a range\n",
        "arr[1:5]"
      ]
    },
    {
      "cell_type": "code",
      "execution_count": null,
      "metadata": {
        "id": "Crd377qPEbBE",
        "outputId": "aadb6e87-f485-49d6-ad7e-ec3819540787"
      },
      "outputs": [
        {
          "data": {
            "text/plain": [
              "array([30, 31, 32, 33, 34])"
            ]
          },
          "execution_count": 6,
          "metadata": {},
          "output_type": "execute_result"
        }
      ],
      "source": [
        "#Get values in a range\n",
        "arr[0:5]"
      ]
    },
    {
      "cell_type": "code",
      "execution_count": null,
      "metadata": {
        "id": "2GRpEje2EbBE",
        "outputId": "ba53c1fa-bbb6-4257-c0f8-f4d5e8270d16"
      },
      "outputs": [
        {
          "data": {
            "text/plain": [
              "array([30, 31, 32, 33, 34])"
            ]
          },
          "execution_count": 7,
          "metadata": {},
          "output_type": "execute_result"
        }
      ],
      "source": [
        "arr[:5]"
      ]
    },
    {
      "cell_type": "code",
      "execution_count": null,
      "metadata": {
        "id": "Omk7l9trEbBF",
        "outputId": "aa891aad-8b7c-49b5-83c4-ea7c618e223c"
      },
      "outputs": [
        {
          "data": {
            "text/plain": [
              "array([33, 34, 35, 36, 37, 38, 39])"
            ]
          },
          "execution_count": 8,
          "metadata": {},
          "output_type": "execute_result"
        }
      ],
      "source": [
        "arr[3:]"
      ]
    },
    {
      "cell_type": "code",
      "execution_count": null,
      "metadata": {
        "id": "_M73r2KPEbBF",
        "outputId": "1737de36-814f-4703-e5f4-a35db9d1624e"
      },
      "outputs": [
        {
          "data": {
            "text/plain": [
              "array([33, 34, 35, 36])"
            ]
          },
          "execution_count": 9,
          "metadata": {},
          "output_type": "execute_result"
        }
      ],
      "source": [
        "arr[3:7]"
      ]
    },
    {
      "cell_type": "code",
      "execution_count": null,
      "metadata": {
        "id": "vLrzHmQBEbBF",
        "outputId": "6764b177-46e0-4454-faa0-d1458f9f0801"
      },
      "outputs": [
        {
          "data": {
            "text/plain": [
              "array([33, 35])"
            ]
          },
          "execution_count": 10,
          "metadata": {},
          "output_type": "execute_result"
        }
      ],
      "source": [
        "arr[3:7:2]"
      ]
    },
    {
      "cell_type": "code",
      "execution_count": null,
      "metadata": {
        "id": "dIZE_LrmEbBF",
        "outputId": "7fe6abef-4d24-4c8f-bac6-a32294d918dd"
      },
      "outputs": [
        {
          "data": {
            "text/plain": [
              "array([30, 31, 32, 33, 34, 35, 36, 37, 38, 39])"
            ]
          },
          "execution_count": 11,
          "metadata": {},
          "output_type": "execute_result"
        }
      ],
      "source": [
        "arr = np.arange(30,40)\n",
        "arr"
      ]
    },
    {
      "cell_type": "code",
      "execution_count": null,
      "metadata": {
        "id": "48z_JfZREbBF",
        "outputId": "fba6be16-4fe8-4e0e-ecb0-697c84e2dad7"
      },
      "outputs": [
        {
          "data": {
            "text/plain": [
              "array([ 30,  31, 100, 100, 100,  35,  36,  37,  38,  39])"
            ]
          },
          "execution_count": 12,
          "metadata": {},
          "output_type": "execute_result"
        }
      ],
      "source": [
        "#Setting a value with index range (Broadcasting)\n",
        "arr[2:5] = 100\n",
        "\n",
        "#Show\n",
        "arr"
      ]
    },
    {
      "cell_type": "markdown",
      "metadata": {
        "id": "WuTcb7FFEbBG"
      },
      "source": [
        "### 1.2) Indexing a 2D array (matrices)\n",
        "\n",
        "The general format is **arr_2d[row][col]** or **arr_2d[row,col]**. I recommend usually using the comma notation for clarity."
      ]
    },
    {
      "cell_type": "code",
      "execution_count": null,
      "metadata": {
        "id": "M6SvzsMZEbBG",
        "outputId": "06b86e9b-149c-461f-fa33-5be70b1e8db5"
      },
      "outputs": [
        {
          "data": {
            "text/plain": [
              "array([[ 5, 10, 15],\n",
              "       [20, 25, 30],\n",
              "       [35, 40, 45]])"
            ]
          },
          "execution_count": 13,
          "metadata": {},
          "output_type": "execute_result"
        }
      ],
      "source": [
        "arr_2d = np.array(([5,10,15],[20,25,30],[35,40,45]))\n",
        "\n",
        "#Show\n",
        "arr_2d"
      ]
    },
    {
      "cell_type": "code",
      "execution_count": null,
      "metadata": {
        "id": "kIszJcK5EbBG",
        "outputId": "4e2fbcb4-04f7-4cc2-c7cd-413ff5ddbe8c"
      },
      "outputs": [
        {
          "data": {
            "text/plain": [
              "array([20, 25, 30])"
            ]
          },
          "execution_count": 14,
          "metadata": {},
          "output_type": "execute_result"
        }
      ],
      "source": [
        "#Indexing row\n",
        "arr_2d[1]\n"
      ]
    },
    {
      "cell_type": "code",
      "execution_count": null,
      "metadata": {
        "id": "wb-SrWB8EbBG",
        "outputId": "70a49de7-04ed-4420-f68d-2a741a04275c"
      },
      "outputs": [
        {
          "data": {
            "text/plain": [
              "20"
            ]
          },
          "execution_count": 25,
          "metadata": {},
          "output_type": "execute_result"
        }
      ],
      "source": [
        "# Format is arr_2d[row][col] or arr_2d[row,col]\n",
        "\n",
        "# Getting individual element value\n",
        "arr_2d[1][0]"
      ]
    },
    {
      "cell_type": "code",
      "execution_count": null,
      "metadata": {
        "id": "AL4IYuTtEbBG",
        "outputId": "7b1b4969-f432-4074-e8a6-a2ee070f4135"
      },
      "outputs": [
        {
          "data": {
            "text/plain": [
              "20"
            ]
          },
          "execution_count": 15,
          "metadata": {},
          "output_type": "execute_result"
        }
      ],
      "source": [
        "# Getting individual element value\n",
        "arr_2d[1, 0]"
      ]
    },
    {
      "cell_type": "code",
      "execution_count": null,
      "metadata": {
        "id": "S3yHVjzwEbBG",
        "outputId": "74d83d66-0732-4500-fc08-6e15a26a9105"
      },
      "outputs": [
        {
          "data": {
            "text/plain": [
              "array([[ 5, 10, 15],\n",
              "       [20, 25, 30],\n",
              "       [35, 40, 45]])"
            ]
          },
          "execution_count": 16,
          "metadata": {},
          "output_type": "execute_result"
        }
      ],
      "source": [
        "arr_2d"
      ]
    },
    {
      "cell_type": "code",
      "execution_count": null,
      "metadata": {
        "id": "16CgMDE4EbBH",
        "outputId": "a50cca34-483d-47ac-db16-2ca2b18f5147"
      },
      "outputs": [
        {
          "data": {
            "text/plain": [
              "array([[10, 15],\n",
              "       [25, 30]])"
            ]
          },
          "execution_count": 17,
          "metadata": {},
          "output_type": "execute_result"
        }
      ],
      "source": [
        "# 2D array slicing\n",
        "\n",
        "#Shape (2,2) from top right corner\n",
        "arr_2d[:2,1:]"
      ]
    },
    {
      "cell_type": "code",
      "execution_count": null,
      "metadata": {
        "id": "WDMDON7UEbBH",
        "outputId": "ba52d634-c2fa-48b3-dcd6-828bad64c5dc"
      },
      "outputs": [
        {
          "data": {
            "text/plain": [
              "array([35, 40, 45])"
            ]
          },
          "execution_count": 18,
          "metadata": {},
          "output_type": "execute_result"
        }
      ],
      "source": [
        "#Shape bottom row\n",
        "arr_2d[2]"
      ]
    },
    {
      "cell_type": "code",
      "execution_count": null,
      "metadata": {
        "id": "5vZtCyRhEbBH",
        "outputId": "0e808281-7c4c-499a-d576-26a7cdda5132"
      },
      "outputs": [
        {
          "data": {
            "text/plain": [
              "array([35, 40, 45])"
            ]
          },
          "execution_count": 19,
          "metadata": {},
          "output_type": "execute_result"
        }
      ],
      "source": [
        "#Shape bottom row\n",
        "arr_2d[2,:]"
      ]
    },
    {
      "cell_type": "code",
      "execution_count": null,
      "metadata": {
        "id": "QeBPN3osEbBH",
        "outputId": "90621871-3e2f-41b2-fee3-523498f9804d"
      },
      "outputs": [
        {
          "data": {
            "text/plain": [
              "array([[ 5, 10, 15],\n",
              "       [20, 25, 30],\n",
              "       [35, 40, 45]])"
            ]
          },
          "execution_count": 20,
          "metadata": {},
          "output_type": "execute_result"
        }
      ],
      "source": [
        "arr_2d"
      ]
    },
    {
      "cell_type": "code",
      "execution_count": null,
      "metadata": {
        "id": "izjShp9xEbBH",
        "outputId": "5d5e44e8-0e2b-4f56-bb24-5a019523350b"
      },
      "outputs": [
        {
          "data": {
            "text/plain": [
              "array([[35, 40, 45],\n",
              "       [20, 25, 30],\n",
              "       [ 5, 10, 15]])"
            ]
          },
          "execution_count": 32,
          "metadata": {},
          "output_type": "execute_result"
        }
      ],
      "source": [
        "arr_2d[::-1,::]"
      ]
    },
    {
      "cell_type": "code",
      "execution_count": null,
      "metadata": {
        "id": "_5nTd11CEbBH",
        "outputId": "ce748def-5ac0-49f3-e135-bbe50445008d"
      },
      "outputs": [
        {
          "data": {
            "text/plain": [
              "array([[15, 10,  5],\n",
              "       [30, 25, 20],\n",
              "       [45, 40, 35]])"
            ]
          },
          "execution_count": 33,
          "metadata": {},
          "output_type": "execute_result"
        }
      ],
      "source": [
        "arr_2d[:,::-1]"
      ]
    },
    {
      "cell_type": "code",
      "execution_count": null,
      "metadata": {
        "id": "6j4QSfIVEbBH",
        "outputId": "d443c647-b410-41e0-b401-61022f8a2f5b"
      },
      "outputs": [
        {
          "data": {
            "text/plain": [
              "array([[45, 40, 35],\n",
              "       [30, 25, 20],\n",
              "       [15, 10,  5]])"
            ]
          },
          "execution_count": 34,
          "metadata": {},
          "output_type": "execute_result"
        }
      ],
      "source": [
        "arr_2d[::-1,::-1]"
      ]
    },
    {
      "cell_type": "markdown",
      "metadata": {
        "id": "hZLi37m4EbBH"
      },
      "source": [
        "### 1.3) Fancy Indexing\n",
        "\n",
        "Fancy indexing allows you to select entire rows or columns out of order,to show this, let's quickly build out a numpy array:"
      ]
    },
    {
      "cell_type": "code",
      "execution_count": null,
      "metadata": {
        "id": "pMWQGjdjEbBI",
        "outputId": "cdd8d7a2-ea58-4b16-a105-886a90b3d26b"
      },
      "outputs": [
        {
          "data": {
            "text/plain": [
              "array([[ 7, 85, 20, 29, 14, 66, 57, 45, 85, 94],\n",
              "       [44, 51, 95, 36, 48, 87, 94, 44, 25,  5],\n",
              "       [68,  9, 61, 99, 41, 59, 42, 78, 51, 95],\n",
              "       [53, 24, 11, 83, 68,  8, 63, 86, 26, 60],\n",
              "       [54, 13, 42, 83, 62,  1,  7, 77,  5, 59],\n",
              "       [22, 86, 42, 25,  7, 73, 31, 13, 70, 12],\n",
              "       [84, 13, 43, 62, 36, 46, 98, 56, 85, 49],\n",
              "       [23, 69, 99, 11, 25, 97,  6, 18, 10, 74],\n",
              "       [31,  7, 44, 55, 38, 40,  8, 53, 33, 58],\n",
              "       [45, 41, 85, 77, 18, 22, 76, 24, 65, 11]])"
            ]
          },
          "execution_count": 32,
          "metadata": {},
          "output_type": "execute_result"
        }
      ],
      "source": [
        "#Set up matrix\n",
        "arr2d = np.random.randint(1, 100, (10,10))\n",
        "arr2d"
      ]
    },
    {
      "cell_type": "markdown",
      "metadata": {
        "id": "ouy8sCipEbBI"
      },
      "source": [
        "Fancy indexing allows the following"
      ]
    },
    {
      "cell_type": "code",
      "execution_count": null,
      "metadata": {
        "id": "DZqdT7-3EbBI",
        "outputId": "49e1908a-7b82-4a6b-ecbe-10a2e70b74fd"
      },
      "outputs": [
        {
          "data": {
            "text/plain": [
              "array([[44, 51, 95, 36, 48, 87, 94, 44, 25,  5],\n",
              "       [54, 13, 42, 83, 62,  1,  7, 77,  5, 59],\n",
              "       [84, 13, 43, 62, 36, 46, 98, 56, 85, 49],\n",
              "       [31,  7, 44, 55, 38, 40,  8, 53, 33, 58]])"
            ]
          },
          "execution_count": 35,
          "metadata": {},
          "output_type": "execute_result"
        }
      ],
      "source": [
        "arr2d[[1,4,6,8]]"
      ]
    },
    {
      "cell_type": "code",
      "execution_count": null,
      "metadata": {
        "id": "aNktn_k_EbBI",
        "outputId": "1fa1d5fa-7279-4405-97df-b15596868f7c"
      },
      "outputs": [
        {
          "data": {
            "text/plain": [
              "array([[84, 13, 43, 62, 36, 46, 98, 56, 85, 49],\n",
              "       [54, 13, 42, 83, 62,  1,  7, 77,  5, 59],\n",
              "       [68,  9, 61, 99, 41, 59, 42, 78, 51, 95],\n",
              "       [23, 69, 99, 11, 25, 97,  6, 18, 10, 74]])"
            ]
          },
          "execution_count": 36,
          "metadata": {},
          "output_type": "execute_result"
        }
      ],
      "source": [
        "#Allows in any order\n",
        "arr2d[[6,4,2,7]]"
      ]
    },
    {
      "cell_type": "code",
      "execution_count": null,
      "metadata": {
        "id": "ZqtmQzl3EbBI",
        "outputId": "ea52acca-9ac6-47f7-fb2a-2fec1feec54e"
      },
      "outputs": [
        {
          "data": {
            "text/plain": [
              "array([[95, 36, 48],\n",
              "       [42, 83, 62],\n",
              "       [43, 62, 36],\n",
              "       [44, 55, 38]])"
            ]
          },
          "execution_count": 37,
          "metadata": {},
          "output_type": "execute_result"
        }
      ],
      "source": [
        "arr2d[[1,4,6,8], 2:5]"
      ]
    },
    {
      "cell_type": "markdown",
      "metadata": {
        "id": "GJ0JCHKjEbBI"
      },
      "source": [
        "## 2) Selection\n",
        "\n",
        "Let's briefly go over how to use brackets for selection based off of comparison operators."
      ]
    },
    {
      "cell_type": "code",
      "execution_count": null,
      "metadata": {
        "id": "7k9bNYj8EbBI",
        "outputId": "e911ff41-c12c-4f0e-b7dd-729134077219"
      },
      "outputs": [
        {
          "data": {
            "text/plain": [
              "array([1, 2, 3, 4, 5, 6, 7, 8, 9])"
            ]
          },
          "execution_count": 38,
          "metadata": {},
          "output_type": "execute_result"
        }
      ],
      "source": [
        "arr = np.arange(1,10)\n",
        "arr"
      ]
    },
    {
      "cell_type": "code",
      "execution_count": null,
      "metadata": {
        "id": "bRbMhHqcEbBI",
        "outputId": "b565623b-ee95-4828-81ea-63a53aa9a754"
      },
      "outputs": [
        {
          "data": {
            "text/plain": [
              "array([False, False, False, False,  True,  True,  True,  True,  True])"
            ]
          },
          "execution_count": 39,
          "metadata": {},
          "output_type": "execute_result"
        }
      ],
      "source": [
        "arr > 4"
      ]
    },
    {
      "cell_type": "code",
      "execution_count": null,
      "metadata": {
        "id": "q65Hidb9EbBJ",
        "outputId": "25337f73-15f7-454f-9643-cce37e7b8884"
      },
      "outputs": [
        {
          "data": {
            "text/plain": [
              "array([False, False, False, False,  True,  True,  True,  True,  True])"
            ]
          },
          "execution_count": 40,
          "metadata": {},
          "output_type": "execute_result"
        }
      ],
      "source": [
        "bool_arr = arr > 4\n",
        "bool_arr"
      ]
    },
    {
      "cell_type": "code",
      "execution_count": null,
      "metadata": {
        "id": "tEsJ96dJEbBJ",
        "outputId": "597fe530-144b-4f2f-f939-8e3e24719d29"
      },
      "outputs": [
        {
          "data": {
            "text/plain": [
              "array([5, 6, 7, 8, 9])"
            ]
          },
          "execution_count": 45,
          "metadata": {},
          "output_type": "execute_result"
        }
      ],
      "source": [
        "arr[bool_arr]"
      ]
    },
    {
      "cell_type": "code",
      "execution_count": null,
      "metadata": {
        "id": "Q2pTnEw8EbBM",
        "outputId": "afbb6700-88c3-491d-e113-147cecfc40a2"
      },
      "outputs": [
        {
          "data": {
            "text/plain": [
              "array([1, 2, 3, 4, 5, 6, 7, 8, 9])"
            ]
          },
          "execution_count": 46,
          "metadata": {},
          "output_type": "execute_result"
        }
      ],
      "source": [
        "arr"
      ]
    },
    {
      "cell_type": "code",
      "execution_count": null,
      "metadata": {
        "id": "o7yZLCnIEbBM",
        "outputId": "88bddeb4-6a32-4c5c-d99f-ca7f8d105d31"
      },
      "outputs": [
        {
          "data": {
            "text/plain": [
              "array([5, 6, 7, 8, 9])"
            ]
          },
          "execution_count": 41,
          "metadata": {},
          "output_type": "execute_result"
        }
      ],
      "source": [
        "arr[arr >= 5]"
      ]
    },
    {
      "cell_type": "code",
      "execution_count": null,
      "metadata": {
        "id": "7tG9ORFBEbBM",
        "outputId": "df3f145f-620c-436a-d8a2-4a88dd405c1d"
      },
      "outputs": [
        {
          "data": {
            "text/plain": [
              "array([4, 5, 6, 7, 8, 9])"
            ]
          },
          "execution_count": 42,
          "metadata": {},
          "output_type": "execute_result"
        }
      ],
      "source": [
        "x = 3\n",
        "arr[arr > x]"
      ]
    },
    {
      "cell_type": "code",
      "execution_count": null,
      "metadata": {
        "id": "VDPKUKJ2EbBO",
        "outputId": "62bae6f2-c5f9-4115-d46c-6352b6f92e7a"
      },
      "outputs": [
        {
          "data": {
            "text/plain": [
              "array([1, 2, 3, 4, 5, 6, 7, 8, 9])"
            ]
          },
          "execution_count": 43,
          "metadata": {},
          "output_type": "execute_result"
        }
      ],
      "source": [
        "arr = np.arange(1,10)\n",
        "arr"
      ]
    },
    {
      "cell_type": "code",
      "execution_count": null,
      "metadata": {
        "id": "bFOYm-wnEbBP",
        "outputId": "7f2696c0-d099-406d-fb2c-1b0a72b6285a"
      },
      "outputs": [
        {
          "data": {
            "text/plain": [
              "array([2, 4, 6, 8])"
            ]
          },
          "execution_count": 44,
          "metadata": {},
          "output_type": "execute_result"
        }
      ],
      "source": [
        "arr[arr % 2 == 0]"
      ]
    },
    {
      "cell_type": "markdown",
      "metadata": {
        "id": "5ysm7Wn8EbBP"
      },
      "source": [
        "# Great Job!\n"
      ]
    }
  ],
  "metadata": {
    "kernelspec": {
      "display_name": "Python 3",
      "language": "python",
      "name": "python3"
    },
    "language_info": {
      "codemirror_mode": {
        "name": "ipython",
        "version": 3
      },
      "file_extension": ".py",
      "mimetype": "text/x-python",
      "name": "python",
      "nbconvert_exporter": "python",
      "pygments_lexer": "ipython3",
      "version": "3.7.6"
    },
    "colab": {
      "provenance": [],
      "include_colab_link": true
    }
  },
  "nbformat": 4,
  "nbformat_minor": 0
}