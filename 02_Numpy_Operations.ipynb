{
  "cells": [
    {
      "cell_type": "markdown",
      "metadata": {
        "id": "view-in-github",
        "colab_type": "text"
      },
      "source": [
        "<a href=\"https://colab.research.google.com/github/Ziad-Fahmy/Data-Mining/blob/main/02_Numpy_Operations.ipynb\" target=\"_parent\"><img src=\"https://colab.research.google.com/assets/colab-badge.svg\" alt=\"Open In Colab\"/></a>"
      ]
    },
    {
      "cell_type": "markdown",
      "metadata": {
        "collapsed": true,
        "id": "trQlLlUa-CXc"
      },
      "source": [
        "# NumPy Operations\n",
        "\n",
        "\n",
        "* 1) Arithmetic and Logic\n",
        "    - 1.1) Arithmetic\n",
        "    - 1.2) Logic\n",
        "* 2) Universal Array Functions\n",
        "    - 2.1) max, min, average, sum\n",
        "    - 2.2) power, sqrt, exp, log\n",
        "    - 2.3) sin, cos, tan\n",
        "    - 2.4) dot product\n",
        "* 3) Combine and Split data"
      ]
    },
    {
      "cell_type": "markdown",
      "metadata": {
        "id": "6_tsujvW-CXh"
      },
      "source": [
        "## 1) Arithmetic and Logic\n",
        "\n",
        "You can easily perform array with array arithmetic, or scalar with array arithmetic. <br>\n",
        "You can also perform logic operation on array. <br>"
      ]
    },
    {
      "cell_type": "markdown",
      "metadata": {
        "id": "ePtpxrDU-CXi"
      },
      "source": [
        "**Broadcasting**: a technique in numpy used to make operations on different array sizes like multiply or sum a scaler to an array.\n",
        "\n",
        "Let's see some examples:"
      ]
    },
    {
      "cell_type": "markdown",
      "metadata": {
        "id": "Zk8_ojNZ-CXj"
      },
      "source": [
        "### 1.1) Arithmetic"
      ]
    },
    {
      "cell_type": "code",
      "execution_count": null,
      "metadata": {
        "id": "viXn5sh8-CXk",
        "outputId": "2aac2f5b-da25-4d9b-c992-2f118eda9fe4"
      },
      "outputs": [
        {
          "data": {
            "text/plain": [
              "array([0, 1, 2, 3, 4, 5, 6, 7, 8, 9])"
            ]
          },
          "execution_count": 2,
          "metadata": {},
          "output_type": "execute_result"
        }
      ],
      "source": [
        "import numpy as np\n",
        "\n",
        "arr = np.arange(0,10)\n",
        "arr"
      ]
    },
    {
      "cell_type": "code",
      "execution_count": null,
      "metadata": {
        "id": "BEDWfTcm-CXm",
        "outputId": "19360c94-1f3c-40bc-be3c-4ba7320a311b"
      },
      "outputs": [
        {
          "data": {
            "text/plain": [
              "array([ 3,  4,  5,  6,  7,  8,  9, 10, 11, 12])"
            ]
          },
          "execution_count": 4,
          "metadata": {},
          "output_type": "execute_result"
        }
      ],
      "source": [
        "arr + 3"
      ]
    },
    {
      "cell_type": "code",
      "execution_count": null,
      "metadata": {
        "id": "muVYAi9Y-CXn",
        "outputId": "874dd85b-05fc-4d5d-8a37-39872a6c3505"
      },
      "outputs": [
        {
          "data": {
            "text/plain": [
              "array([ 0,  2,  4,  6,  8, 10, 12, 14, 16, 18])"
            ]
          },
          "execution_count": 5,
          "metadata": {},
          "output_type": "execute_result"
        }
      ],
      "source": [
        "arr * 2"
      ]
    },
    {
      "cell_type": "code",
      "execution_count": null,
      "metadata": {
        "id": "seKvHgjz-CXo",
        "outputId": "e5efec19-c9e9-4937-e730-68420875c7a5"
      },
      "outputs": [
        {
          "data": {
            "text/plain": [
              "array([-10,  -9,  -8,  -7,  -6,  -5,  -4,  -3,  -2,  -1])"
            ]
          },
          "execution_count": 6,
          "metadata": {},
          "output_type": "execute_result"
        }
      ],
      "source": [
        "arr - 10"
      ]
    },
    {
      "cell_type": "code",
      "execution_count": null,
      "metadata": {
        "id": "AxFR27r7-CXp",
        "outputId": "ecaf7929-4837-4eaa-8285-02657f114e1e"
      },
      "outputs": [
        {
          "data": {
            "text/plain": [
              "array([ 0,  2,  4,  6,  8, 10, 12, 14, 16, 18])"
            ]
          },
          "execution_count": 7,
          "metadata": {},
          "output_type": "execute_result"
        }
      ],
      "source": [
        "arr + arr"
      ]
    },
    {
      "cell_type": "code",
      "execution_count": null,
      "metadata": {
        "id": "EvbuvTX2-CXq",
        "outputId": "2e31f8bb-6de0-4e77-d15c-0319d5c292db"
      },
      "outputs": [
        {
          "data": {
            "text/plain": [
              "array([0, 0, 0, 0, 0, 0, 0, 0, 0, 0])"
            ]
          },
          "execution_count": 8,
          "metadata": {},
          "output_type": "execute_result"
        }
      ],
      "source": [
        "arr - arr"
      ]
    },
    {
      "cell_type": "code",
      "execution_count": null,
      "metadata": {
        "id": "0Is9nhZY-CXr",
        "outputId": "391025f1-43bb-437c-bbce-8063cf0f77ab"
      },
      "outputs": [
        {
          "name": "stderr",
          "output_type": "stream",
          "text": [
            "C:\\Anaconda3\\envs\\tensorflow\\lib\\site-packages\\ipykernel_launcher.py:3: RuntimeWarning: invalid value encountered in true_divide\n",
            "  This is separate from the ipykernel package so we can avoid doing imports until\n"
          ]
        },
        {
          "data": {
            "text/plain": [
              "array([nan,  1.,  1.,  1.,  1.,  1.,  1.,  1.,  1.,  1.])"
            ]
          },
          "execution_count": 5,
          "metadata": {},
          "output_type": "execute_result"
        }
      ],
      "source": [
        "# Warning on division by zero, but not an error!\n",
        "# Just replaced with nan\n",
        "arr / arr"
      ]
    },
    {
      "cell_type": "code",
      "execution_count": null,
      "metadata": {
        "id": "L6httFHU-CXt",
        "outputId": "ff1c917f-3787-4a71-bfbd-6a1c80102ad5"
      },
      "outputs": [
        {
          "name": "stderr",
          "output_type": "stream",
          "text": [
            "C:\\Anaconda3\\envs\\tensorflow\\lib\\site-packages\\ipykernel_launcher.py:2: RuntimeWarning: divide by zero encountered in true_divide\n",
            "  \n"
          ]
        },
        {
          "data": {
            "text/plain": [
              "array([       inf, 1.        , 0.5       , 0.33333333, 0.25      ,\n",
              "       0.2       , 0.16666667, 0.14285714, 0.125     , 0.11111111])"
            ]
          },
          "execution_count": 6,
          "metadata": {},
          "output_type": "execute_result"
        }
      ],
      "source": [
        "# Also warning, but not an error instead infinity\n",
        "1 / arr"
      ]
    },
    {
      "cell_type": "code",
      "execution_count": null,
      "metadata": {
        "id": "VEHka--x-CXt",
        "outputId": "4fc57a27-6414-4367-bc7d-1b53ef1db589"
      },
      "outputs": [
        {
          "data": {
            "text/plain": [
              "array([  0,   1,   8,  27,  64, 125, 216, 343, 512, 729], dtype=int32)"
            ]
          },
          "execution_count": 7,
          "metadata": {},
          "output_type": "execute_result"
        }
      ],
      "source": [
        "arr ** 3"
      ]
    },
    {
      "cell_type": "markdown",
      "metadata": {
        "id": "axgOpgLb-CXu"
      },
      "source": [
        "### 2.2) Logic"
      ]
    },
    {
      "cell_type": "code",
      "execution_count": null,
      "metadata": {
        "id": "RdMdGPuz-CXv",
        "outputId": "2cee9223-b0b4-4e8a-bf16-2a1d20ab49d9"
      },
      "outputs": [
        {
          "data": {
            "text/plain": [
              "array([False, False, False, False,  True,  True,  True,  True,  True,\n",
              "        True])"
            ]
          },
          "execution_count": 9,
          "metadata": {},
          "output_type": "execute_result"
        }
      ],
      "source": [
        "arr > 3"
      ]
    },
    {
      "cell_type": "code",
      "execution_count": null,
      "metadata": {
        "id": "dDe3mEM8-CXw",
        "outputId": "9a2da5d2-5c14-44fd-829e-e1a3ac7130f9"
      },
      "outputs": [
        {
          "data": {
            "text/plain": [
              "array([ True,  True,  True, False,  True,  True,  True,  True,  True,\n",
              "        True])"
            ]
          },
          "execution_count": 9,
          "metadata": {},
          "output_type": "execute_result"
        }
      ],
      "source": [
        "arr != 3"
      ]
    },
    {
      "cell_type": "markdown",
      "metadata": {
        "id": "D8gxfWE5-CXw"
      },
      "source": [
        "**We can also do operations on 2-D arrays**"
      ]
    },
    {
      "cell_type": "code",
      "execution_count": null,
      "metadata": {
        "id": "Y-6YpHuH-CXx",
        "outputId": "fcf6fa15-f494-4416-8472-8c1ec099e8ed"
      },
      "outputs": [
        {
          "data": {
            "text/plain": [
              "array([[1, 1, 1],\n",
              "       [0, 8, 6],\n",
              "       [8, 5, 7]])"
            ]
          },
          "execution_count": 11,
          "metadata": {},
          "output_type": "execute_result"
        }
      ],
      "source": [
        "arr = np.random.randint(0,10, (3,3))\n",
        "arr"
      ]
    },
    {
      "cell_type": "code",
      "execution_count": null,
      "metadata": {
        "id": "l-KToCBZ-CXy",
        "outputId": "b54ce64a-f82a-40ef-a314-6409b888bf36"
      },
      "outputs": [
        {
          "data": {
            "text/plain": [
              "array([[ 4,  4,  4],\n",
              "       [ 3, 11,  9],\n",
              "       [11,  8, 10]])"
            ]
          },
          "execution_count": 13,
          "metadata": {},
          "output_type": "execute_result"
        }
      ],
      "source": [
        "arr + 3"
      ]
    },
    {
      "cell_type": "code",
      "execution_count": null,
      "metadata": {
        "id": "NCTZxDTY-CXy",
        "outputId": "d96ecceb-7b5a-4cd9-e969-ba3a9799b1f7"
      },
      "outputs": [
        {
          "data": {
            "text/plain": [
              "array([[-1, -1, -1],\n",
              "       [-2,  6,  4],\n",
              "       [ 6,  3,  5]])"
            ]
          },
          "execution_count": 14,
          "metadata": {},
          "output_type": "execute_result"
        }
      ],
      "source": [
        "arr - 2"
      ]
    },
    {
      "cell_type": "code",
      "execution_count": null,
      "metadata": {
        "id": "56KeDSAj-CXz",
        "outputId": "b68dd1e7-5d89-4777-f5d0-1d5bd9f1b6bb"
      },
      "outputs": [
        {
          "data": {
            "text/plain": [
              "array([[ 3,  3,  3],\n",
              "       [ 0, 24, 18],\n",
              "       [24, 15, 21]])"
            ]
          },
          "execution_count": 15,
          "metadata": {},
          "output_type": "execute_result"
        }
      ],
      "source": [
        "3 * arr"
      ]
    },
    {
      "cell_type": "code",
      "execution_count": null,
      "metadata": {
        "id": "TWZhTKHP-CX0",
        "outputId": "d7a2c36a-630c-4fb6-a603-c713f50839f6"
      },
      "outputs": [
        {
          "data": {
            "text/plain": [
              "array([[1, 1, 1],\n",
              "       [0, 8, 6],\n",
              "       [8, 5, 7]])"
            ]
          },
          "execution_count": 16,
          "metadata": {},
          "output_type": "execute_result"
        }
      ],
      "source": [
        "arr"
      ]
    },
    {
      "cell_type": "code",
      "execution_count": null,
      "metadata": {
        "id": "XMa5n-tm-CX0",
        "outputId": "77eee2bf-e008-4db1-8e39-8685cd70aedf"
      },
      "outputs": [
        {
          "data": {
            "text/plain": [
              "array([[ 4,  4,  4],\n",
              "       [ 0, 32, 24],\n",
              "       [32, 20, 28]])"
            ]
          },
          "execution_count": 17,
          "metadata": {},
          "output_type": "execute_result"
        }
      ],
      "source": [
        "arr + 3 * arr"
      ]
    },
    {
      "cell_type": "code",
      "execution_count": null,
      "metadata": {
        "id": "F7PmGAjP-CX1",
        "outputId": "beb6f6f4-7415-40db-bb29-f51412664c3f"
      },
      "outputs": [
        {
          "data": {
            "text/plain": [
              "array([[ 1,  1,  1],\n",
              "       [ 0, 64, 36],\n",
              "       [64, 25, 49]])"
            ]
          },
          "execution_count": 18,
          "metadata": {},
          "output_type": "execute_result"
        }
      ],
      "source": [
        "arr * arr"
      ]
    },
    {
      "cell_type": "markdown",
      "metadata": {
        "id": "lJRIoa3r-CX2"
      },
      "source": [
        "## 2) Universal Array Functions\n",
        "\n",
        "Numpy comes with many [universal array functions](http://docs.scipy.org/doc/numpy/reference/ufuncs.html), which are essentially just mathematical operations you can use to perform the operation across the array. Let's show some common ones:"
      ]
    },
    {
      "cell_type": "code",
      "execution_count": null,
      "metadata": {
        "id": "mSbZlLzB-CX2",
        "outputId": "537a92c4-97c3-4846-dece-7344d07b6805"
      },
      "outputs": [
        {
          "data": {
            "text/plain": [
              "array([0, 1, 2, 3, 4, 5, 6, 7, 8, 9])"
            ]
          },
          "execution_count": 3,
          "metadata": {},
          "output_type": "execute_result"
        }
      ],
      "source": [
        "arr = np.arange(0,10)\n",
        "arr"
      ]
    },
    {
      "cell_type": "code",
      "execution_count": null,
      "metadata": {
        "id": "-NZj_vuq-CX3",
        "outputId": "971c3e03-ae9b-4354-81a2-ba2eed943fa0"
      },
      "outputs": [
        {
          "data": {
            "text/plain": [
              "array([[ 7, 68, 24],\n",
              "       [ 3, 23, 91],\n",
              "       [12, 91, 99],\n",
              "       [36, 75, 68],\n",
              "       [71, 22, 63]])"
            ]
          },
          "execution_count": 4,
          "metadata": {},
          "output_type": "execute_result"
        }
      ],
      "source": [
        "matrix = np.random.randint(0, 100, (5, 3))\n",
        "matrix"
      ]
    },
    {
      "cell_type": "markdown",
      "metadata": {
        "id": "toxOfySv-CX3"
      },
      "source": [
        "### 2.1) max, min, average, sum"
      ]
    },
    {
      "cell_type": "markdown",
      "metadata": {
        "id": "iPVVptTT-CX4"
      },
      "source": [
        "**max**"
      ]
    },
    {
      "cell_type": "code",
      "execution_count": null,
      "metadata": {
        "id": "Lz2hvsna-CX4",
        "outputId": "4c467e76-838a-43ab-86dd-e7489e37d256"
      },
      "outputs": [
        {
          "data": {
            "text/plain": [
              "9"
            ]
          },
          "execution_count": 5,
          "metadata": {},
          "output_type": "execute_result"
        }
      ],
      "source": [
        "np.max(arr) #same as arr.max()"
      ]
    },
    {
      "cell_type": "code",
      "execution_count": null,
      "metadata": {
        "id": "MSn7kyNM-CX5",
        "outputId": "2c1e868f-73de-4b84-a5d8-2217443fd5e1"
      },
      "outputs": [
        {
          "data": {
            "text/plain": [
              "92"
            ]
          },
          "execution_count": 22,
          "metadata": {},
          "output_type": "execute_result"
        }
      ],
      "source": [
        "np.max(matrix)"
      ]
    },
    {
      "cell_type": "code",
      "execution_count": null,
      "metadata": {
        "id": "cAAPlD2A-CX5",
        "outputId": "a37a7d7e-f98f-433f-91c1-be149ddb5768"
      },
      "outputs": [
        {
          "data": {
            "text/plain": [
              "array([71, 91, 99])"
            ]
          },
          "execution_count": 7,
          "metadata": {},
          "output_type": "execute_result"
        }
      ],
      "source": [
        "np.max(matrix, axis=0)"
      ]
    },
    {
      "cell_type": "code",
      "execution_count": null,
      "metadata": {
        "id": "Fo6sGSvw-CX6",
        "outputId": "772a331e-1f70-4692-d17a-f4637e5a45ca"
      },
      "outputs": [
        {
          "data": {
            "text/plain": [
              "array([68, 91, 99, 75, 71])"
            ]
          },
          "execution_count": 8,
          "metadata": {},
          "output_type": "execute_result"
        }
      ],
      "source": [
        "np.max(matrix, axis=1)"
      ]
    },
    {
      "cell_type": "markdown",
      "metadata": {
        "id": "aoRoi7ht-CX7"
      },
      "source": [
        "**min**"
      ]
    },
    {
      "cell_type": "code",
      "execution_count": null,
      "metadata": {
        "id": "RYH8L_3B-CX7",
        "outputId": "dff3104a-8b27-40dc-c5bf-747155c2ffb3"
      },
      "outputs": [
        {
          "data": {
            "text/plain": [
              "0"
            ]
          },
          "execution_count": 24,
          "metadata": {},
          "output_type": "execute_result"
        }
      ],
      "source": [
        "np.min(arr) #same as arr.min()"
      ]
    },
    {
      "cell_type": "code",
      "execution_count": null,
      "metadata": {
        "id": "vbE2bS1y-CX7",
        "outputId": "e0fd06d3-1274-43b5-d7cb-22d39990098f"
      },
      "outputs": [
        {
          "data": {
            "text/plain": [
              "20"
            ]
          },
          "execution_count": 25,
          "metadata": {},
          "output_type": "execute_result"
        }
      ],
      "source": [
        "np.min(matrix)"
      ]
    },
    {
      "cell_type": "code",
      "execution_count": null,
      "metadata": {
        "id": "_-GQO1Ze-CX8",
        "outputId": "1f8054ad-06fa-47ab-b112-86737482fa0c"
      },
      "outputs": [
        {
          "data": {
            "text/plain": [
              "array([36, 20, 21])"
            ]
          },
          "execution_count": 27,
          "metadata": {},
          "output_type": "execute_result"
        }
      ],
      "source": [
        "np.min(matrix, axis=0)"
      ]
    },
    {
      "cell_type": "code",
      "execution_count": null,
      "metadata": {
        "id": "8GlteEo2-CX8",
        "outputId": "f6f7343e-b07c-4f4a-9423-cd64a1b3080c"
      },
      "outputs": [
        {
          "data": {
            "text/plain": [
              "array([20, 38, 39, 26, 32])"
            ]
          },
          "execution_count": 28,
          "metadata": {},
          "output_type": "execute_result"
        }
      ],
      "source": [
        "np.min(matrix, axis=1)"
      ]
    },
    {
      "cell_type": "markdown",
      "metadata": {
        "id": "wGgeWuqY-CX9"
      },
      "source": [
        "**average**"
      ]
    },
    {
      "cell_type": "code",
      "execution_count": null,
      "metadata": {
        "id": "UPQn4wkg-CX9",
        "outputId": "376c30d8-a775-4cba-af64-7850c64a694f"
      },
      "outputs": [
        {
          "data": {
            "text/plain": [
              "4.5"
            ]
          },
          "execution_count": 29,
          "metadata": {},
          "output_type": "execute_result"
        }
      ],
      "source": [
        "np.average(arr)"
      ]
    },
    {
      "cell_type": "code",
      "execution_count": null,
      "metadata": {
        "id": "idKTqe56-CX-",
        "outputId": "780dd948-746a-4eda-82b6-171854c166df"
      },
      "outputs": [
        {
          "data": {
            "text/plain": [
              "46.93333333333333"
            ]
          },
          "execution_count": 30,
          "metadata": {},
          "output_type": "execute_result"
        }
      ],
      "source": [
        "np.average(matrix)"
      ]
    },
    {
      "cell_type": "code",
      "execution_count": null,
      "metadata": {
        "id": "emFz1zpI-CX-",
        "outputId": "a83e7061-6ae5-4691-e192-7ceac239ee8c"
      },
      "outputs": [
        {
          "data": {
            "text/plain": [
              "array([58.6, 41.4, 40.8])"
            ]
          },
          "execution_count": 31,
          "metadata": {},
          "output_type": "execute_result"
        }
      ],
      "source": [
        "np.average(matrix, axis=0)"
      ]
    },
    {
      "cell_type": "code",
      "execution_count": null,
      "metadata": {
        "id": "Lda7X2Wi-CX_",
        "outputId": "4a3a71a8-5ef9-4290-d693-a92edc2ba085"
      },
      "outputs": [
        {
          "data": {
            "text/plain": [
              "array([32.33333333, 64.66666667, 57.66666667, 29.66666667, 50.33333333])"
            ]
          },
          "execution_count": 32,
          "metadata": {},
          "output_type": "execute_result"
        }
      ],
      "source": [
        "np.average(matrix, axis=1)"
      ]
    },
    {
      "cell_type": "markdown",
      "metadata": {
        "id": "LEX0biTt-CX_"
      },
      "source": [
        "**sum**"
      ]
    },
    {
      "cell_type": "code",
      "execution_count": null,
      "metadata": {
        "id": "9xl71mOP-CYA",
        "outputId": "b96de30b-853f-4312-a9a0-71d31c56a5ad"
      },
      "outputs": [
        {
          "data": {
            "text/plain": [
              "45"
            ]
          },
          "execution_count": 33,
          "metadata": {},
          "output_type": "execute_result"
        }
      ],
      "source": [
        "np.sum(arr)"
      ]
    },
    {
      "cell_type": "code",
      "execution_count": null,
      "metadata": {
        "id": "iWEU87SO-CYA",
        "outputId": "38494ba7-aa59-4ed8-d1a0-dab78eaed731"
      },
      "outputs": [
        {
          "data": {
            "text/plain": [
              "704"
            ]
          },
          "execution_count": 34,
          "metadata": {},
          "output_type": "execute_result"
        }
      ],
      "source": [
        "np.sum(matrix)"
      ]
    },
    {
      "cell_type": "code",
      "execution_count": null,
      "metadata": {
        "id": "p1JKdPgh-CYA",
        "outputId": "7836fc9c-831f-4e8a-e1c0-6db159efe534"
      },
      "outputs": [
        {
          "data": {
            "text/plain": [
              "array([293, 207, 204])"
            ]
          },
          "execution_count": 35,
          "metadata": {},
          "output_type": "execute_result"
        }
      ],
      "source": [
        "np.sum(matrix, axis=0)"
      ]
    },
    {
      "cell_type": "code",
      "execution_count": null,
      "metadata": {
        "id": "hceuRjqg-CYB",
        "outputId": "ee013a66-cbfa-450b-f713-ac0b091952a4"
      },
      "outputs": [
        {
          "data": {
            "text/plain": [
              "array([ 97, 194, 173,  89, 151])"
            ]
          },
          "execution_count": 36,
          "metadata": {},
          "output_type": "execute_result"
        }
      ],
      "source": [
        "np.sum(matrix, axis=1)"
      ]
    },
    {
      "cell_type": "markdown",
      "metadata": {
        "id": "AK4xGGWM-CYB"
      },
      "source": [
        "### 2.2) sqrt, exp, log, sin"
      ]
    },
    {
      "cell_type": "markdown",
      "metadata": {
        "id": "lSaW1Yfo-CYB"
      },
      "source": [
        "**power**"
      ]
    },
    {
      "cell_type": "code",
      "execution_count": null,
      "metadata": {
        "id": "Pci5kU98-CYC",
        "outputId": "a5050a16-59ea-40b2-8075-d37abd6bde98"
      },
      "outputs": [
        {
          "data": {
            "text/plain": [
              "array([  0,   1,   8,  27,  64, 125, 216, 343, 512, 729], dtype=int32)"
            ]
          },
          "execution_count": 37,
          "metadata": {},
          "output_type": "execute_result"
        }
      ],
      "source": [
        "np.power(arr, 3)"
      ]
    },
    {
      "cell_type": "code",
      "execution_count": null,
      "metadata": {
        "id": "9C7uf4-8-CYC",
        "outputId": "cbec5815-b4c3-4e44-a083-c4a09ca82b02"
      },
      "outputs": [
        {
          "data": {
            "text/plain": [
              "array([[175616,   8000,   9261],\n",
              "       [ 54872, 389017, 571787],\n",
              "       [778688,  59319,  74088],\n",
              "       [ 46656,  19683,  17576],\n",
              "       [357911, 110592,  32768]], dtype=int32)"
            ]
          },
          "execution_count": 38,
          "metadata": {},
          "output_type": "execute_result"
        }
      ],
      "source": [
        "np.power(matrix, 3)"
      ]
    },
    {
      "cell_type": "markdown",
      "metadata": {
        "id": "9PDO2XAZ-CYC"
      },
      "source": [
        "**sqrt**"
      ]
    },
    {
      "cell_type": "code",
      "execution_count": null,
      "metadata": {
        "id": "Pm545Exg-CYD",
        "outputId": "e5ce0803-8c83-47fa-9eb2-c8029eb23be3"
      },
      "outputs": [
        {
          "data": {
            "text/plain": [
              "array([0.        , 1.        , 1.41421356, 1.73205081, 2.        ,\n",
              "       2.23606798, 2.44948974, 2.64575131, 2.82842712, 3.        ])"
            ]
          },
          "execution_count": 39,
          "metadata": {},
          "output_type": "execute_result"
        }
      ],
      "source": [
        "np.sqrt(arr)"
      ]
    },
    {
      "cell_type": "code",
      "execution_count": null,
      "metadata": {
        "id": "04lMmZz0-CYD",
        "outputId": "36ac83ca-6c9e-4b92-b505-608b8b1e854e"
      },
      "outputs": [
        {
          "data": {
            "text/plain": [
              "array([[7.48331477, 4.47213595, 4.58257569],\n",
              "       [6.164414  , 8.54400375, 9.11043358],\n",
              "       [9.59166305, 6.244998  , 6.4807407 ],\n",
              "       [6.        , 5.19615242, 5.09901951],\n",
              "       [8.42614977, 6.92820323, 5.65685425]])"
            ]
          },
          "execution_count": 40,
          "metadata": {},
          "output_type": "execute_result"
        }
      ],
      "source": [
        "np.sqrt(matrix)"
      ]
    },
    {
      "cell_type": "markdown",
      "metadata": {
        "id": "8dG7CJD8-CYE"
      },
      "source": [
        "**exp**"
      ]
    },
    {
      "cell_type": "code",
      "execution_count": null,
      "metadata": {
        "id": "oGSQIdxo-CYE",
        "outputId": "556245d4-0bd5-48e1-c757-8cf671477ff5"
      },
      "outputs": [
        {
          "data": {
            "text/plain": [
              "array([1.00000000e+00, 2.71828183e+00, 7.38905610e+00, 2.00855369e+01,\n",
              "       5.45981500e+01, 1.48413159e+02, 4.03428793e+02, 1.09663316e+03,\n",
              "       2.98095799e+03, 8.10308393e+03])"
            ]
          },
          "execution_count": 41,
          "metadata": {},
          "output_type": "execute_result"
        }
      ],
      "source": [
        "np.exp(arr)"
      ]
    },
    {
      "cell_type": "code",
      "execution_count": null,
      "metadata": {
        "id": "hPFZRyrM-CYE",
        "outputId": "5eb8f2fa-3a55-4c64-9b7c-581f77ebd846"
      },
      "outputs": [
        {
          "data": {
            "text/plain": [
              "array([[2.09165950e+24, 4.85165195e+08, 1.31881573e+09],\n",
              "       [3.18559318e+16, 5.05239363e+31, 1.11286375e+36],\n",
              "       [9.01762841e+39, 8.65934004e+16, 1.73927494e+18],\n",
              "       [4.31123155e+15, 5.32048241e+11, 1.95729609e+11],\n",
              "       [6.83767123e+30, 7.01673591e+20, 7.89629602e+13]])"
            ]
          },
          "execution_count": 42,
          "metadata": {},
          "output_type": "execute_result"
        }
      ],
      "source": [
        "np.exp(matrix)"
      ]
    },
    {
      "cell_type": "markdown",
      "metadata": {
        "id": "uEuCHKh9-CYF"
      },
      "source": [
        "**log**"
      ]
    },
    {
      "cell_type": "code",
      "execution_count": null,
      "metadata": {
        "id": "not7iRAQ-CYF",
        "outputId": "d43f25a2-ac1a-4a89-ad70-e48e5eb1803a"
      },
      "outputs": [
        {
          "name": "stderr",
          "output_type": "stream",
          "text": [
            "C:\\Anaconda3\\envs\\tensorflow\\lib\\site-packages\\ipykernel_launcher.py:1: RuntimeWarning: divide by zero encountered in log\n",
            "  \"\"\"Entry point for launching an IPython kernel.\n"
          ]
        },
        {
          "data": {
            "text/plain": [
              "array([      -inf, 0.        , 0.69314718, 1.09861229, 1.38629436,\n",
              "       1.60943791, 1.79175947, 1.94591015, 2.07944154, 2.19722458])"
            ]
          },
          "execution_count": 34,
          "metadata": {},
          "output_type": "execute_result"
        }
      ],
      "source": [
        "np.log(arr)"
      ]
    },
    {
      "cell_type": "code",
      "execution_count": null,
      "metadata": {
        "id": "VfDjLdXU-CYF",
        "outputId": "6c91c3fc-1177-422d-aba5-189c238d5a13"
      },
      "outputs": [
        {
          "data": {
            "text/plain": [
              "array([[4.02535169, 2.99573227, 3.04452244],\n",
              "       [3.63758616, 4.29045944, 4.41884061],\n",
              "       [4.52178858, 3.66356165, 3.73766962],\n",
              "       [3.58351894, 3.29583687, 3.25809654],\n",
              "       [4.26267988, 3.87120101, 3.4657359 ]])"
            ]
          },
          "execution_count": 43,
          "metadata": {},
          "output_type": "execute_result"
        }
      ],
      "source": [
        "np.log(matrix)"
      ]
    },
    {
      "cell_type": "markdown",
      "metadata": {
        "id": "Uaq1ArMQ-CYF"
      },
      "source": [
        "### 2.3) sin, cos, tan"
      ]
    },
    {
      "cell_type": "code",
      "execution_count": null,
      "metadata": {
        "id": "G-yZG6wG-CYG",
        "outputId": "c84ed54b-b3f8-4343-9123-06910786fa81"
      },
      "outputs": [
        {
          "data": {
            "text/plain": [
              "array([[  0.,  45.,  90.],\n",
              "       [135., 180., 225.],\n",
              "       [270., 315., 360.]])"
            ]
          },
          "execution_count": 44,
          "metadata": {},
          "output_type": "execute_result"
        }
      ],
      "source": [
        "angels_arr = np.linspace(0, 360, 9).reshape(3, 3)\n",
        "angels_arr"
      ]
    },
    {
      "cell_type": "code",
      "execution_count": null,
      "metadata": {
        "id": "oVQGx_QB-CYG",
        "outputId": "185384ff-b3fd-408d-ee36-81444585feba"
      },
      "outputs": [
        {
          "data": {
            "text/plain": [
              "array([[0.        , 0.78539816, 1.57079633],\n",
              "       [2.35619449, 3.14159265, 3.92699082],\n",
              "       [4.71238898, 5.49778714, 6.28318531]])"
            ]
          },
          "execution_count": 46,
          "metadata": {},
          "output_type": "execute_result"
        }
      ],
      "source": [
        "angels_arr = (angels_arr * 2 * np.pi) / 360\n",
        "angels_arr"
      ]
    },
    {
      "cell_type": "markdown",
      "metadata": {
        "id": "sq8Riweu-CYG"
      },
      "source": [
        "**sin**"
      ]
    },
    {
      "cell_type": "code",
      "execution_count": null,
      "metadata": {
        "id": "HSUbGmUd-CYG",
        "outputId": "a130a423-00d3-490a-cd73-123fe2b4b0e9"
      },
      "outputs": [
        {
          "data": {
            "text/plain": [
              "array([[ 0.00000000e+00,  7.07106781e-01,  1.00000000e+00],\n",
              "       [ 7.07106781e-01,  1.22464680e-16, -7.07106781e-01],\n",
              "       [-1.00000000e+00, -7.07106781e-01, -2.44929360e-16]])"
            ]
          },
          "execution_count": 47,
          "metadata": {},
          "output_type": "execute_result"
        }
      ],
      "source": [
        "np.sin(angels_arr)"
      ]
    },
    {
      "cell_type": "markdown",
      "metadata": {
        "id": "TgNIwkFc-CYH"
      },
      "source": [
        "**cos**"
      ]
    },
    {
      "cell_type": "code",
      "execution_count": null,
      "metadata": {
        "id": "3y9FTjAQ-CYH",
        "outputId": "36ffc939-c1b3-422e-a2af-b24c219435fd"
      },
      "outputs": [
        {
          "data": {
            "text/plain": [
              "array([[ 1.00000000e+00,  7.07106781e-01,  6.12323400e-17],\n",
              "       [-7.07106781e-01, -1.00000000e+00, -7.07106781e-01],\n",
              "       [-1.83697020e-16,  7.07106781e-01,  1.00000000e+00]])"
            ]
          },
          "execution_count": 48,
          "metadata": {},
          "output_type": "execute_result"
        }
      ],
      "source": [
        "np.cos(angels_arr)"
      ]
    },
    {
      "cell_type": "markdown",
      "metadata": {
        "id": "sWt4c9rm-CYH"
      },
      "source": [
        "**tan**"
      ]
    },
    {
      "cell_type": "code",
      "execution_count": null,
      "metadata": {
        "id": "KUti5REN-CYI",
        "outputId": "0e550f5b-170d-4d19-b0c9-a62b882b1b08"
      },
      "outputs": [
        {
          "data": {
            "text/plain": [
              "array([[ 0.00000000e+00,  1.00000000e+00,  1.63312394e+16],\n",
              "       [-1.00000000e+00, -1.22464680e-16,  1.00000000e+00],\n",
              "       [ 5.44374645e+15, -1.00000000e+00, -2.44929360e-16]])"
            ]
          },
          "execution_count": 49,
          "metadata": {},
          "output_type": "execute_result"
        }
      ],
      "source": [
        "np.tan(angels_arr)"
      ]
    },
    {
      "cell_type": "markdown",
      "metadata": {
        "id": "mrUV88UD-CYI"
      },
      "source": [
        "### 2.4) dot product"
      ]
    },
    {
      "cell_type": "code",
      "execution_count": null,
      "metadata": {
        "id": "EmIjh3o--CYI",
        "outputId": "35b5f8d9-cbd1-450a-925d-57e3726d34a6"
      },
      "outputs": [
        {
          "name": "stdout",
          "output_type": "stream",
          "text": [
            "[[0 1 2]\n",
            " [3 4 5]\n",
            " [6 7 8]]\n",
            "\n",
            "[1 2 3]\n",
            "\n",
            "[24 30 36]\n"
          ]
        }
      ],
      "source": [
        "mat = np.arange(9).reshape(3,3)\n",
        "vec1 = np.array([1,2,3])\n",
        "\n",
        "print(mat)\n",
        "print()\n",
        "print(vec1)\n",
        "print()\n",
        "print(np.dot(vec1, mat))"
      ]
    },
    {
      "cell_type": "code",
      "execution_count": null,
      "metadata": {
        "id": "bNevBP9W-CYI",
        "outputId": "8274b9b8-d55d-4b6f-f80e-3025e75f4cf8"
      },
      "outputs": [
        {
          "data": {
            "text/plain": [
              "array([24, 30, 36])"
            ]
          },
          "execution_count": 54,
          "metadata": {},
          "output_type": "execute_result"
        }
      ],
      "source": [
        "vec1.dot(mat)"
      ]
    },
    {
      "cell_type": "markdown",
      "metadata": {
        "id": "UMl8zDlL-CYJ"
      },
      "source": [
        "## 3) Combine and Split data\n",
        "\n",
        "* hstack\n",
        "* vstack\n",
        "* concatenate\n",
        "* hsplit\n",
        "* vsplit"
      ]
    },
    {
      "cell_type": "markdown",
      "metadata": {
        "id": "A5B9VVVQ-CYJ"
      },
      "source": [
        "### hstack"
      ]
    },
    {
      "cell_type": "code",
      "execution_count": null,
      "metadata": {
        "id": "yZtS9fUI-CYJ",
        "outputId": "b2dba972-a246-4d49-f17e-adf6f504db73"
      },
      "outputs": [
        {
          "data": {
            "text/plain": [
              "array([[12, 10, 14],\n",
              "       [ 9, 14, 10],\n",
              "       [11,  8, 11],\n",
              "       [12, 11,  7],\n",
              "       [12,  9,  9]])"
            ]
          },
          "execution_count": 44,
          "metadata": {},
          "output_type": "execute_result"
        }
      ],
      "source": [
        "data1 = np.random.randint(5,15,size=(5,3))\n",
        "data1"
      ]
    },
    {
      "cell_type": "code",
      "execution_count": null,
      "metadata": {
        "id": "2PaErzm4-CYJ",
        "outputId": "ed5b2270-19a0-444c-9931-704ddd57869d"
      },
      "outputs": [
        {
          "data": {
            "text/plain": [
              "array([[13,  8, 13],\n",
              "       [ 6,  5,  8],\n",
              "       [14, 12,  5],\n",
              "       [ 8, 11, 13],\n",
              "       [ 8,  7, 10]])"
            ]
          },
          "execution_count": 45,
          "metadata": {},
          "output_type": "execute_result"
        }
      ],
      "source": [
        "data2 = np.random.randint(5,15,size=(5,3))\n",
        "data2"
      ]
    },
    {
      "cell_type": "code",
      "execution_count": null,
      "metadata": {
        "id": "GL8paBGK-CYK",
        "outputId": "3b66ac1b-a00e-4ead-98d4-9b78a7b6ab6a"
      },
      "outputs": [
        {
          "data": {
            "text/plain": [
              "array([[12, 10, 14, 13,  8, 13],\n",
              "       [ 9, 14, 10,  6,  5,  8],\n",
              "       [11,  8, 11, 14, 12,  5],\n",
              "       [12, 11,  7,  8, 11, 13],\n",
              "       [12,  9,  9,  8,  7, 10]])"
            ]
          },
          "execution_count": 46,
          "metadata": {},
          "output_type": "execute_result"
        }
      ],
      "source": [
        "np.hstack([data1,data2])"
      ]
    },
    {
      "cell_type": "markdown",
      "metadata": {
        "id": "FUbhNCpt-CYK"
      },
      "source": [
        "### vstack"
      ]
    },
    {
      "cell_type": "code",
      "execution_count": null,
      "metadata": {
        "id": "yT2jNi8w-CYK",
        "outputId": "8a357dbc-1730-4b02-c4e2-475108a63677"
      },
      "outputs": [
        {
          "data": {
            "text/plain": [
              "array([[12, 10, 14],\n",
              "       [ 9, 14, 10],\n",
              "       [11,  8, 11],\n",
              "       [12, 11,  7],\n",
              "       [12,  9,  9],\n",
              "       [13,  8, 13],\n",
              "       [ 6,  5,  8],\n",
              "       [14, 12,  5],\n",
              "       [ 8, 11, 13],\n",
              "       [ 8,  7, 10]])"
            ]
          },
          "execution_count": 47,
          "metadata": {},
          "output_type": "execute_result"
        }
      ],
      "source": [
        "np.vstack([data1,data2])"
      ]
    },
    {
      "cell_type": "markdown",
      "metadata": {
        "id": "Tz67CFqe-CYK"
      },
      "source": [
        "### concatenate"
      ]
    },
    {
      "cell_type": "code",
      "execution_count": null,
      "metadata": {
        "id": "zXY5doxe-CYL",
        "outputId": "30c4b4a5-a47a-4936-a5c4-f572b14adb71"
      },
      "outputs": [
        {
          "data": {
            "text/plain": [
              "array([[12, 10, 14],\n",
              "       [ 9, 14, 10],\n",
              "       [11,  8, 11],\n",
              "       [12, 11,  7],\n",
              "       [12,  9,  9],\n",
              "       [13,  8, 13],\n",
              "       [ 6,  5,  8],\n",
              "       [14, 12,  5],\n",
              "       [ 8, 11, 13],\n",
              "       [ 8,  7, 10]])"
            ]
          },
          "execution_count": 48,
          "metadata": {},
          "output_type": "execute_result"
        }
      ],
      "source": [
        "# stack vertical rows\n",
        "np.concatenate([data1, data2], axis=0)"
      ]
    },
    {
      "cell_type": "code",
      "execution_count": null,
      "metadata": {
        "id": "h7DzQMLw-CYL",
        "outputId": "3b78f278-4194-4031-8107-8dad7cdef438"
      },
      "outputs": [
        {
          "data": {
            "text/plain": [
              "array([[12, 10, 14, 13,  8, 13],\n",
              "       [ 9, 14, 10,  6,  5,  8],\n",
              "       [11,  8, 11, 14, 12,  5],\n",
              "       [12, 11,  7,  8, 11, 13],\n",
              "       [12,  9,  9,  8,  7, 10]])"
            ]
          },
          "execution_count": 49,
          "metadata": {},
          "output_type": "execute_result"
        }
      ],
      "source": [
        "# stack horizontal columns\n",
        "np.concatenate([data1, data2], axis=1)"
      ]
    },
    {
      "cell_type": "markdown",
      "metadata": {
        "id": "3HNgf3go-CYL"
      },
      "source": [
        "### hsplit"
      ]
    },
    {
      "cell_type": "code",
      "execution_count": null,
      "metadata": {
        "id": "9nhMZuPq-CYM",
        "outputId": "8be1b245-7bb5-4533-a003-0f0b37c40a76"
      },
      "outputs": [
        {
          "data": {
            "text/plain": [
              "array([[12, 10, 14, 13,  8, 13],\n",
              "       [ 9, 14, 10,  6,  5,  8],\n",
              "       [11,  8, 11, 14, 12,  5],\n",
              "       [12, 11,  7,  8, 11, 13],\n",
              "       [12,  9,  9,  8,  7, 10]])"
            ]
          },
          "execution_count": 50,
          "metadata": {},
          "output_type": "execute_result"
        }
      ],
      "source": [
        "stacked_data = np.hstack([data1,data2])\n",
        "stacked_data"
      ]
    },
    {
      "cell_type": "code",
      "execution_count": null,
      "metadata": {
        "id": "IukabEeK-CYM"
      },
      "outputs": [],
      "source": [
        "left, right = np.hsplit(stacked_data, 2)"
      ]
    },
    {
      "cell_type": "code",
      "execution_count": null,
      "metadata": {
        "id": "9pbFXMJh-CYM",
        "outputId": "4cb5e9cf-ac0d-455b-d367-d720f80e2e11"
      },
      "outputs": [
        {
          "data": {
            "text/plain": [
              "array([[12, 10, 14],\n",
              "       [ 9, 14, 10],\n",
              "       [11,  8, 11],\n",
              "       [12, 11,  7],\n",
              "       [12,  9,  9]])"
            ]
          },
          "execution_count": 52,
          "metadata": {},
          "output_type": "execute_result"
        }
      ],
      "source": [
        "left"
      ]
    },
    {
      "cell_type": "code",
      "execution_count": null,
      "metadata": {
        "scrolled": true,
        "id": "WRl4LgEZ-CYM",
        "outputId": "69fa0b6d-e437-4034-ff2e-4a601dafc852"
      },
      "outputs": [
        {
          "data": {
            "text/plain": [
              "array([[13,  8, 13],\n",
              "       [ 6,  5,  8],\n",
              "       [14, 12,  5],\n",
              "       [ 8, 11, 13],\n",
              "       [ 8,  7, 10]])"
            ]
          },
          "execution_count": 53,
          "metadata": {},
          "output_type": "execute_result"
        }
      ],
      "source": [
        "right"
      ]
    },
    {
      "cell_type": "markdown",
      "metadata": {
        "id": "X59UfXv1-CYN"
      },
      "source": [
        "### vsplit"
      ]
    },
    {
      "cell_type": "code",
      "execution_count": null,
      "metadata": {
        "id": "wTMLjzjw-CYN",
        "outputId": "8cdb5870-a23c-4373-be59-af142ea473b4"
      },
      "outputs": [
        {
          "data": {
            "text/plain": [
              "array([[12, 10, 14],\n",
              "       [ 9, 14, 10],\n",
              "       [11,  8, 11],\n",
              "       [12, 11,  7],\n",
              "       [12,  9,  9],\n",
              "       [13,  8, 13],\n",
              "       [ 6,  5,  8],\n",
              "       [14, 12,  5],\n",
              "       [ 8, 11, 13],\n",
              "       [ 8,  7, 10]])"
            ]
          },
          "execution_count": 54,
          "metadata": {},
          "output_type": "execute_result"
        }
      ],
      "source": [
        "stacked_data = np.vstack([data1,data2])\n",
        "stacked_data"
      ]
    },
    {
      "cell_type": "code",
      "execution_count": null,
      "metadata": {
        "id": "d7X-J7DL-CYN"
      },
      "outputs": [],
      "source": [
        "up, down = np.vsplit(stacked_data, 2)"
      ]
    },
    {
      "cell_type": "code",
      "execution_count": null,
      "metadata": {
        "id": "MjfmrVvv-CYN",
        "outputId": "77249327-543a-4f6e-fd4b-97b08149090b"
      },
      "outputs": [
        {
          "data": {
            "text/plain": [
              "array([[12, 10, 14],\n",
              "       [ 9, 14, 10],\n",
              "       [11,  8, 11],\n",
              "       [12, 11,  7],\n",
              "       [12,  9,  9]])"
            ]
          },
          "execution_count": 56,
          "metadata": {},
          "output_type": "execute_result"
        }
      ],
      "source": [
        "up"
      ]
    },
    {
      "cell_type": "code",
      "execution_count": null,
      "metadata": {
        "id": "L0YWP_zL-CYO",
        "outputId": "35504397-8cc4-4ad9-ebba-0a8515d6d32a"
      },
      "outputs": [
        {
          "data": {
            "text/plain": [
              "array([[13,  8, 13],\n",
              "       [ 6,  5,  8],\n",
              "       [14, 12,  5],\n",
              "       [ 8, 11, 13],\n",
              "       [ 8,  7, 10]])"
            ]
          },
          "execution_count": 57,
          "metadata": {},
          "output_type": "execute_result"
        }
      ],
      "source": [
        "down"
      ]
    },
    {
      "cell_type": "markdown",
      "metadata": {
        "id": "SBIHR3KP-CYO"
      },
      "source": [
        "# Great Job!\n",
        "\n",
        "That's all we need to know for now!"
      ]
    }
  ],
  "metadata": {
    "kernelspec": {
      "display_name": "Python 3",
      "language": "python",
      "name": "python3"
    },
    "language_info": {
      "codemirror_mode": {
        "name": "ipython",
        "version": 3
      },
      "file_extension": ".py",
      "mimetype": "text/x-python",
      "name": "python",
      "nbconvert_exporter": "python",
      "pygments_lexer": "ipython3",
      "version": "3.7.6"
    },
    "colab": {
      "provenance": [],
      "include_colab_link": true
    }
  },
  "nbformat": 4,
  "nbformat_minor": 0
}