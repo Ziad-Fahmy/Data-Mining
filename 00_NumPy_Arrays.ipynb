{
  "cells": [
    {
      "cell_type": "markdown",
      "metadata": {
        "id": "view-in-github",
        "colab_type": "text"
      },
      "source": [
        "<a href=\"https://colab.research.google.com/github/Ziad-Fahmy/Data-Mining/blob/main/00_NumPy_Arrays.ipynb\" target=\"_parent\"><img src=\"https://colab.research.google.com/assets/colab-badge.svg\" alt=\"Open In Colab\"/></a>"
      ]
    },
    {
      "cell_type": "markdown",
      "metadata": {
        "id": "HiUla5fp9lsZ"
      },
      "source": [
        "# NumPy\n",
        "\n",
        "NumPy (or Numpy) is a Linear Algebra Library for Python, the reason it is so important for Data Science with Python is that almost all of the libraries in the PyData Ecosystem rely on NumPy as one of their main building blocks.\n",
        "\n",
        "Numpy is also incredibly fast, as it has bindings to C libraries. For more info on why you would want to use Arrays instead of lists, check out this great [StackOverflow post](http://stackoverflow.com/questions/993984/why-numpy-instead-of-python-lists).\n",
        "\n",
        "We will only learn the basics of NumPy, to get started we need to install it!\n",
        "\n",
        "\n",
        "* 1) Create Numpy Array\n",
        "* 2) Built in Methods\n",
        "    - 2.1) arange\n",
        "    - 2.2) zeros, ones, eye\n",
        "    - 2.3) linspace\n",
        "    - 2.4) rand, randn, randint\n",
        "    - 2.5) min, max, argmin, argmax\n",
        "* 3) Reshaping"
      ]
    },
    {
      "cell_type": "markdown",
      "metadata": {
        "id": "YAqiRDHN9lsb"
      },
      "source": [
        "## Installation Instructions\n",
        "\n",
        "**It is highly recommended you install Python using the Anaconda distribution to make sure all underlying dependencies (such as Linear Algebra libraries) all sync up with the use of a conda install. If you have Anaconda, install NumPy by going to your terminal or command prompt and typing:**\n",
        "    \n",
        "    conda install numpy\n",
        "    \n",
        "**If you do not have Anaconda and can not install it, please refer to [Numpy's official documentation on various installation instructions.](http://docs.scipy.org/doc/numpy-1.10.1/user/install.html)**"
      ]
    },
    {
      "cell_type": "code",
      "execution_count": null,
      "metadata": {
        "id": "Tz4hdzWn9lsb"
      },
      "outputs": [],
      "source": [
        "# !conda install numpy"
      ]
    },
    {
      "cell_type": "markdown",
      "metadata": {
        "id": "N1bFLjN89lsc"
      },
      "source": [
        "## Using NumPy\n",
        "\n",
        "Once you've installed NumPy you can import it as a library:"
      ]
    },
    {
      "cell_type": "code",
      "execution_count": null,
      "metadata": {
        "id": "ArEnMQI09lsc"
      },
      "outputs": [],
      "source": [
        "import numpy as np"
      ]
    },
    {
      "cell_type": "markdown",
      "metadata": {
        "id": "Yx20DvAJ9lsc"
      },
      "source": [
        "Numpy has many built-in functions and capabilities. We won't cover them all but instead we will focus on some of the most important aspects of Numpy: vectors,arrays,matrices, and number generation. Let's start by discussing arrays.\n",
        "\n",
        "# Numpy Arrays\n",
        "\n",
        "NumPy arrays are the main way we will use Numpy throughout the course. Numpy arrays essentially come in two flavors: vectors and matrices. Vectors are strictly 1-d arrays and matrices are 2-d (but you should note a matrix can still have only one row or one column).\n",
        "\n",
        "Let's begin our introduction by exploring how to create NumPy arrays.\n",
        "\n",
        "## 1) Creating NumPy Arrays\n",
        "\n",
        "We can create an array by directly converting a list or list of lists:"
      ]
    },
    {
      "cell_type": "code",
      "execution_count": null,
      "metadata": {
        "id": "YYk1SUDF9lsd",
        "outputId": "76b10980-3428-47f2-b626-0f60ffcd5af1"
      },
      "outputs": [
        {
          "data": {
            "text/plain": [
              "[1, 2, 3]"
            ]
          },
          "execution_count": 2,
          "metadata": {},
          "output_type": "execute_result"
        }
      ],
      "source": [
        "my_list = [1,2,3]\n",
        "my_list"
      ]
    },
    {
      "cell_type": "code",
      "execution_count": null,
      "metadata": {
        "id": "5kyIGMP69lsd",
        "outputId": "9708fec4-d1c7-48b0-e239-438820eced2a"
      },
      "outputs": [
        {
          "data": {
            "text/plain": [
              "array([1, 2, 3])"
            ]
          },
          "execution_count": 3,
          "metadata": {},
          "output_type": "execute_result"
        }
      ],
      "source": [
        "np.array(my_list)"
      ]
    },
    {
      "cell_type": "code",
      "execution_count": null,
      "metadata": {
        "id": "zveRjv9B9lsd",
        "outputId": "ceec5a5c-078d-4c2d-aff5-61378af4c330"
      },
      "outputs": [
        {
          "data": {
            "text/plain": [
              "[[1, 2, 3], [4, 5, 6], [7, 8, 9]]"
            ]
          },
          "execution_count": 4,
          "metadata": {},
          "output_type": "execute_result"
        }
      ],
      "source": [
        "my_matrix = [[1,2,3],[4,5,6],[7,8,9]]\n",
        "my_matrix"
      ]
    },
    {
      "cell_type": "code",
      "execution_count": null,
      "metadata": {
        "id": "oUMF8JXo9lse",
        "outputId": "64ca3b0a-9aad-4d5b-b959-d94218dfdce1"
      },
      "outputs": [
        {
          "data": {
            "text/plain": [
              "array([[1, 2, 3],\n",
              "       [4, 5, 6],\n",
              "       [7, 8, 9]])"
            ]
          },
          "execution_count": 5,
          "metadata": {},
          "output_type": "execute_result"
        }
      ],
      "source": [
        "np.array(my_matrix)"
      ]
    },
    {
      "cell_type": "markdown",
      "metadata": {
        "id": "mslU-Xvf9lse"
      },
      "source": [
        "## 2) Built-in Methods\n",
        "\n",
        "There are lots of built-in ways to generate Arrays"
      ]
    },
    {
      "cell_type": "code",
      "execution_count": null,
      "metadata": {
        "id": "h0BxAcAB9lse",
        "outputId": "849a5b47-8c5a-41ca-c8bc-5b45c954c810"
      },
      "outputs": [
        {
          "data": {
            "text/plain": [
              "[0, 1, 2, 3, 4, 5, 6, 7, 8, 9, 10]"
            ]
          },
          "execution_count": 6,
          "metadata": {},
          "output_type": "execute_result"
        }
      ],
      "source": [
        "list(range(0, 11))"
      ]
    },
    {
      "cell_type": "code",
      "execution_count": null,
      "metadata": {
        "id": "44qGg5B49lse",
        "outputId": "b28f65f2-1228-4080-f931-4b3e864890cc"
      },
      "outputs": [
        {
          "data": {
            "text/plain": [
              "[0, 2, 4, 6, 8, 10]"
            ]
          },
          "execution_count": 7,
          "metadata": {},
          "output_type": "execute_result"
        }
      ],
      "source": [
        "list(range(0, 11, 2))"
      ]
    },
    {
      "cell_type": "markdown",
      "metadata": {
        "id": "7K-bo1239lse"
      },
      "source": [
        "### 2.1) arange"
      ]
    },
    {
      "cell_type": "code",
      "execution_count": null,
      "metadata": {
        "id": "o2xcKYMk9lsf",
        "outputId": "b95d22d5-c09d-45fd-bcc7-2a904a012a82"
      },
      "outputs": [
        {
          "data": {
            "text/plain": [
              "array([ 0,  1,  2,  3,  4,  5,  6,  7,  8,  9, 10])"
            ]
          },
          "execution_count": 9,
          "metadata": {},
          "output_type": "execute_result"
        }
      ],
      "source": [
        "np.arange(0, 11)"
      ]
    },
    {
      "cell_type": "code",
      "execution_count": null,
      "metadata": {
        "id": "YcFxhQ1n9lsf",
        "outputId": "43e7819c-33ca-47d6-cd54-1e9ca9249331"
      },
      "outputs": [
        {
          "data": {
            "text/plain": [
              "array([ 0,  2,  4,  6,  8, 10])"
            ]
          },
          "execution_count": 10,
          "metadata": {},
          "output_type": "execute_result"
        }
      ],
      "source": [
        "np.arange(0, 11, 2)"
      ]
    },
    {
      "cell_type": "markdown",
      "metadata": {
        "id": "F_qZjnmE9lsf"
      },
      "source": [
        "### 2.2) zeros, ones and eye\n",
        "\n",
        "Generate arrays of zeros or ones"
      ]
    },
    {
      "cell_type": "markdown",
      "metadata": {
        "id": "0ptNkvvD9lsf"
      },
      "source": [
        "### zeros"
      ]
    },
    {
      "cell_type": "code",
      "execution_count": null,
      "metadata": {
        "id": "3zJhLU-F9lsf",
        "outputId": "8d7e041f-d9a8-474f-c54b-afcc34e53ea7"
      },
      "outputs": [
        {
          "data": {
            "text/plain": [
              "array([0., 0., 0.])"
            ]
          },
          "execution_count": 11,
          "metadata": {},
          "output_type": "execute_result"
        }
      ],
      "source": [
        "np.zeros(3)"
      ]
    },
    {
      "cell_type": "code",
      "execution_count": null,
      "metadata": {
        "id": "VHcuEFAE9lsf",
        "outputId": "4ca8bff8-d983-4354-cab5-cc9e989453c5"
      },
      "outputs": [
        {
          "data": {
            "text/plain": [
              "array([[0., 0., 0., 0., 0.],\n",
              "       [0., 0., 0., 0., 0.],\n",
              "       [0., 0., 0., 0., 0.],\n",
              "       [0., 0., 0., 0., 0.],\n",
              "       [0., 0., 0., 0., 0.]])"
            ]
          },
          "execution_count": 13,
          "metadata": {},
          "output_type": "execute_result"
        }
      ],
      "source": [
        "np.zeros((5, 5))"
      ]
    },
    {
      "cell_type": "markdown",
      "metadata": {
        "id": "EOhH9FcG9lsg"
      },
      "source": [
        "### ones"
      ]
    },
    {
      "cell_type": "code",
      "execution_count": null,
      "metadata": {
        "id": "MKc0PEUb9lsg",
        "outputId": "ce08e083-9584-4b73-b935-990fd2b13b92"
      },
      "outputs": [
        {
          "data": {
            "text/plain": [
              "array([1., 1., 1.])"
            ]
          },
          "execution_count": 14,
          "metadata": {},
          "output_type": "execute_result"
        }
      ],
      "source": [
        "np.ones(3)"
      ]
    },
    {
      "cell_type": "code",
      "execution_count": null,
      "metadata": {
        "id": "rHifd-Ew9lsg",
        "outputId": "eac6a9d7-37cf-4ec8-ec55-ad69bab1d66d"
      },
      "outputs": [
        {
          "data": {
            "text/plain": [
              "array([[1., 1., 1.],\n",
              "       [1., 1., 1.],\n",
              "       [1., 1., 1.]])"
            ]
          },
          "execution_count": 15,
          "metadata": {},
          "output_type": "execute_result"
        }
      ],
      "source": [
        "np.ones((3,3))"
      ]
    },
    {
      "cell_type": "markdown",
      "metadata": {
        "id": "5_bNMIgm9lsg"
      },
      "source": [
        "### eye\n",
        "\n",
        "Creates an identity matrix"
      ]
    },
    {
      "cell_type": "code",
      "execution_count": null,
      "metadata": {
        "id": "NQwaX7Tj9lsg",
        "outputId": "e64b061b-3751-4b0a-8e05-c4897168320a"
      },
      "outputs": [
        {
          "data": {
            "text/plain": [
              "array([[1., 0., 0., 0., 0.],\n",
              "       [0., 1., 0., 0., 0.],\n",
              "       [0., 0., 1., 0., 0.],\n",
              "       [0., 0., 0., 1., 0.],\n",
              "       [0., 0., 0., 0., 1.]])"
            ]
          },
          "execution_count": 16,
          "metadata": {},
          "output_type": "execute_result"
        }
      ],
      "source": [
        "np.eye(5)"
      ]
    },
    {
      "cell_type": "markdown",
      "metadata": {
        "id": "tCV5XW7m9lsg"
      },
      "source": [
        "### 2.3)  linspace\n",
        "Return evenly spaced numbers over a specified interval."
      ]
    },
    {
      "cell_type": "code",
      "execution_count": null,
      "metadata": {
        "id": "6dED-sJW9lsh",
        "outputId": "6d32f75f-ee85-4738-caf1-4b9ddc581f31"
      },
      "outputs": [
        {
          "data": {
            "text/plain": [
              "array([  0.,  20.,  40.,  60.,  80., 100.])"
            ]
          },
          "execution_count": 16,
          "metadata": {},
          "output_type": "execute_result"
        }
      ],
      "source": [
        "np.linspace(0, 100, 6)\n",
        "# (100-0)/(6-1) = 20\n",
        "# The step is 20"
      ]
    },
    {
      "cell_type": "code",
      "execution_count": null,
      "metadata": {
        "id": "4i6VbZyA9lsh",
        "outputId": "af8f0453-0266-4505-8690-6841f9277ba1"
      },
      "outputs": [
        {
          "data": {
            "text/plain": [
              "array([  0.,  25.,  50.,  75., 100.])"
            ]
          },
          "execution_count": 17,
          "metadata": {},
          "output_type": "execute_result"
        }
      ],
      "source": [
        "np.linspace(0, 100, 5)\n",
        "# (100-0)/(5-1) = 25\n",
        "# The step is 25"
      ]
    },
    {
      "cell_type": "code",
      "execution_count": null,
      "metadata": {
        "id": "MhewiNaZ9lsh",
        "outputId": "291e57e0-1126-4823-93f9-8ba4a0d04d89"
      },
      "outputs": [
        {
          "data": {
            "text/plain": [
              "array([ 0.        ,  0.20408163,  0.40816327,  0.6122449 ,  0.81632653,\n",
              "        1.02040816,  1.2244898 ,  1.42857143,  1.63265306,  1.83673469,\n",
              "        2.04081633,  2.24489796,  2.44897959,  2.65306122,  2.85714286,\n",
              "        3.06122449,  3.26530612,  3.46938776,  3.67346939,  3.87755102,\n",
              "        4.08163265,  4.28571429,  4.48979592,  4.69387755,  4.89795918,\n",
              "        5.10204082,  5.30612245,  5.51020408,  5.71428571,  5.91836735,\n",
              "        6.12244898,  6.32653061,  6.53061224,  6.73469388,  6.93877551,\n",
              "        7.14285714,  7.34693878,  7.55102041,  7.75510204,  7.95918367,\n",
              "        8.16326531,  8.36734694,  8.57142857,  8.7755102 ,  8.97959184,\n",
              "        9.18367347,  9.3877551 ,  9.59183673,  9.79591837, 10.        ])"
            ]
          },
          "execution_count": 18,
          "metadata": {},
          "output_type": "execute_result"
        }
      ],
      "source": [
        "np.linspace(0, 10, 50)"
      ]
    },
    {
      "cell_type": "markdown",
      "metadata": {
        "id": "cRgMVopK9lsh"
      },
      "source": [
        "### 2.4) rand, randn, randint"
      ]
    },
    {
      "cell_type": "markdown",
      "metadata": {
        "id": "HFFMPN739lsh"
      },
      "source": [
        "### rand\n",
        "Create an array of the given shape and populate it with\n",
        "random samples from a uniform distribution\n",
        "over ``[0, 1]``."
      ]
    },
    {
      "cell_type": "code",
      "execution_count": null,
      "metadata": {
        "id": "b1NaThOb9lsh",
        "outputId": "4d157e07-d87d-4f18-87ac-1a9e06366a03"
      },
      "outputs": [
        {
          "data": {
            "text/plain": [
              "array([0.80562414, 0.49522757, 0.60768572])"
            ]
          },
          "execution_count": 19,
          "metadata": {},
          "output_type": "execute_result"
        }
      ],
      "source": [
        "np.random.rand(3)"
      ]
    },
    {
      "cell_type": "code",
      "execution_count": null,
      "metadata": {
        "id": "4h8cq-Fc9lsi",
        "outputId": "f421721d-9512-4945-d725-2f7bb5348366"
      },
      "outputs": [
        {
          "data": {
            "text/plain": [
              "array([[3.98744519e-01, 9.33914065e-01, 8.75484346e-01, 2.94301156e-01,\n",
              "        9.61064547e-01],\n",
              "       [2.62592943e-01, 5.93360563e-01, 9.68201472e-03, 7.99982240e-02,\n",
              "        4.99792304e-04],\n",
              "       [8.73757790e-02, 9.96831088e-01, 4.18654215e-01, 4.62645347e-01,\n",
              "        5.15025409e-01],\n",
              "       [5.82714398e-03, 7.55010900e-01, 2.05648123e-01, 3.56341702e-01,\n",
              "        1.86797285e-01],\n",
              "       [6.40670683e-01, 6.50385744e-01, 8.83707488e-01, 2.78836660e-01,\n",
              "        3.21677830e-01]])"
            ]
          },
          "execution_count": 20,
          "metadata": {},
          "output_type": "execute_result"
        }
      ],
      "source": [
        "np.random.rand(5, 5)"
      ]
    },
    {
      "cell_type": "markdown",
      "metadata": {
        "id": "JH8pcNZf9lsi"
      },
      "source": [
        "### randn\n",
        "\n",
        "Return a sample (or samples) from the \"standard normal\" distribution. Unlike rand which is uniform:"
      ]
    },
    {
      "cell_type": "code",
      "execution_count": null,
      "metadata": {
        "id": "cxV6Q0Lz9lsi",
        "outputId": "b9218b8e-8f46-4d9b-c72f-8545f79c3ff8"
      },
      "outputs": [
        {
          "data": {
            "text/plain": [
              "array([ 0.14070625, -2.32659078])"
            ]
          },
          "execution_count": 21,
          "metadata": {},
          "output_type": "execute_result"
        }
      ],
      "source": [
        "np.random.randn(2)"
      ]
    },
    {
      "cell_type": "code",
      "execution_count": null,
      "metadata": {
        "id": "H18csSyS9lsi",
        "outputId": "4daa6970-6980-4e5c-e22b-6ebb6a2f498f"
      },
      "outputs": [
        {
          "data": {
            "text/plain": [
              "array([[ 0.26509931,  1.6777667 ,  0.05020142, -0.82069783, -1.2555122 ],\n",
              "       [ 0.66930001, -1.36956938, -0.99241219, -0.69802014,  1.24506397],\n",
              "       [-0.55727013,  0.64331965, -0.27708958,  2.26077797,  1.2346101 ],\n",
              "       [-0.6101831 ,  1.05245348,  1.38981339, -0.86944171,  0.0637274 ],\n",
              "       [ 0.95963225, -0.07108122,  1.41445273,  0.97254644, -0.95540202]])"
            ]
          },
          "execution_count": 22,
          "metadata": {},
          "output_type": "execute_result"
        }
      ],
      "source": [
        "np.random.randn(5, 5)"
      ]
    },
    {
      "cell_type": "markdown",
      "metadata": {
        "id": "mIvQbAvu9lsi"
      },
      "source": [
        "### randint\n",
        "Return random integers from `low` (inclusive) to `high` (exclusive)."
      ]
    },
    {
      "cell_type": "code",
      "execution_count": null,
      "metadata": {
        "id": "ZN9dKfFM9lsi",
        "outputId": "a8ac1f15-8aec-4cfd-d5e5-91fe99fad711"
      },
      "outputs": [
        {
          "data": {
            "text/plain": [
              "35"
            ]
          },
          "execution_count": 17,
          "metadata": {},
          "output_type": "execute_result"
        }
      ],
      "source": [
        "np.random.randint(1, 100)"
      ]
    },
    {
      "cell_type": "code",
      "execution_count": null,
      "metadata": {
        "id": "Oj8lffZW9lsj",
        "outputId": "5f646fe9-1fa6-45ee-ea5a-fb5e09673814"
      },
      "outputs": [
        {
          "data": {
            "text/plain": [
              "array([64, 76,  6, 79, 57, 51, 75, 75, 63, 95])"
            ]
          },
          "execution_count": 18,
          "metadata": {},
          "output_type": "execute_result"
        }
      ],
      "source": [
        "np.random.randint(1, 100, 10)"
      ]
    },
    {
      "cell_type": "code",
      "execution_count": null,
      "metadata": {
        "id": "IjcZ59pC9lsn",
        "outputId": "b6e9c74f-1efa-49df-d25c-b5e0ebc343bf"
      },
      "outputs": [
        {
          "data": {
            "text/plain": [
              "array([[ 4, 74, 96, 70, 53],\n",
              "       [73, 36,  6, 37, 70],\n",
              "       [29, 44, 78, 73,  6],\n",
              "       [32, 41, 28, 16, 28],\n",
              "       [38, 42, 50,  8,  3]])"
            ]
          },
          "execution_count": 19,
          "metadata": {},
          "output_type": "execute_result"
        }
      ],
      "source": [
        "np.random.randint(1, 100, (5, 5))"
      ]
    },
    {
      "cell_type": "markdown",
      "metadata": {
        "id": "Vop6EsWs9lsn"
      },
      "source": [
        "### 2.5) max, min, argmax, argmin\n",
        "\n",
        "These are useful methods for finding max or min values. Or to find their index locations using argmin or argmax"
      ]
    },
    {
      "cell_type": "code",
      "execution_count": null,
      "metadata": {
        "id": "acCGfTQw9lsn",
        "outputId": "aba18217-ce05-4b05-cc2f-32f644b06372"
      },
      "outputs": [
        {
          "data": {
            "text/plain": [
              "array([42, 47, 22, 45, 24, 24, 43, 40, 11, 39])"
            ]
          },
          "execution_count": 20,
          "metadata": {},
          "output_type": "execute_result"
        }
      ],
      "source": [
        "ranarr = np.random.randint(0,50,10)\n",
        "ranarr"
      ]
    },
    {
      "cell_type": "code",
      "execution_count": null,
      "metadata": {
        "id": "ZAPDqgDn9lsn",
        "outputId": "648aa3a4-79ea-4cdc-ebe4-c19fedb9527a"
      },
      "outputs": [
        {
          "data": {
            "text/plain": [
              "47"
            ]
          },
          "execution_count": 21,
          "metadata": {},
          "output_type": "execute_result"
        }
      ],
      "source": [
        "ranarr.max()"
      ]
    },
    {
      "cell_type": "code",
      "execution_count": null,
      "metadata": {
        "id": "wPbinAby9lso",
        "outputId": "70f7300c-be96-4bdb-bd22-e1fece3c57d5"
      },
      "outputs": [
        {
          "data": {
            "text/plain": [
              "1"
            ]
          },
          "execution_count": 23,
          "metadata": {},
          "output_type": "execute_result"
        }
      ],
      "source": [
        "ranarr.argmax()"
      ]
    },
    {
      "cell_type": "code",
      "execution_count": null,
      "metadata": {
        "id": "jgYfniJ79lso",
        "outputId": "ec9aec6b-233a-493a-bcb0-1afbe83da9cf"
      },
      "outputs": [
        {
          "data": {
            "text/plain": [
              "11"
            ]
          },
          "execution_count": 24,
          "metadata": {},
          "output_type": "execute_result"
        }
      ],
      "source": [
        "ranarr.min()"
      ]
    },
    {
      "cell_type": "code",
      "execution_count": null,
      "metadata": {
        "id": "MVPn8PNk9lso",
        "outputId": "800b527a-e307-4e5c-c55f-1340a4135ee1"
      },
      "outputs": [
        {
          "data": {
            "text/plain": [
              "8"
            ]
          },
          "execution_count": 25,
          "metadata": {},
          "output_type": "execute_result"
        }
      ],
      "source": [
        "ranarr.argmin()"
      ]
    },
    {
      "cell_type": "markdown",
      "metadata": {
        "id": "ArG72Tgg9lso"
      },
      "source": [
        "## 3) Reshape\n",
        "Returns an array containing the same data with a new shape."
      ]
    },
    {
      "cell_type": "code",
      "execution_count": null,
      "metadata": {
        "id": "mWQRGHwD9lso"
      },
      "outputs": [],
      "source": [
        "arr = np.arange(25)\n",
        "ranarr = np.random.randint(0,50,10)\n",
        "linarr = np.linspace(0,2,11)"
      ]
    },
    {
      "cell_type": "code",
      "execution_count": null,
      "metadata": {
        "id": "8gsvhcpp9lso",
        "outputId": "110be1aa-27ee-4690-a5b6-96dc733b1be0"
      },
      "outputs": [
        {
          "data": {
            "text/plain": [
              "array([ 0,  1,  2,  3,  4,  5,  6,  7,  8,  9, 10, 11, 12, 13, 14, 15, 16,\n",
              "       17, 18, 19, 20, 21, 22, 23, 24])"
            ]
          },
          "execution_count": 29,
          "metadata": {},
          "output_type": "execute_result"
        }
      ],
      "source": [
        "arr"
      ]
    },
    {
      "cell_type": "code",
      "execution_count": null,
      "metadata": {
        "id": "EnhbzdcC9lso",
        "outputId": "bfd41d02-e979-4617-a4b3-4e8cd828f33b"
      },
      "outputs": [
        {
          "data": {
            "text/plain": [
              "(25,)"
            ]
          },
          "execution_count": 30,
          "metadata": {},
          "output_type": "execute_result"
        }
      ],
      "source": [
        "arr.shape"
      ]
    },
    {
      "cell_type": "code",
      "execution_count": null,
      "metadata": {
        "id": "nM-e1N1p9lsp",
        "outputId": "9a91fbf9-3b4b-4c89-cdf8-67a3a9b2110f"
      },
      "outputs": [
        {
          "data": {
            "text/plain": [
              "array([20, 10, 38, 14, 25, 12, 13,  8,  6, 37])"
            ]
          },
          "execution_count": 31,
          "metadata": {},
          "output_type": "execute_result"
        }
      ],
      "source": [
        "ranarr"
      ]
    },
    {
      "cell_type": "code",
      "execution_count": null,
      "metadata": {
        "id": "LERTHIVJ9lsp",
        "outputId": "fdefd92e-c67b-4fad-ed02-d7204e70c8b1"
      },
      "outputs": [
        {
          "data": {
            "text/plain": [
              "(10,)"
            ]
          },
          "execution_count": 32,
          "metadata": {},
          "output_type": "execute_result"
        }
      ],
      "source": [
        "ranarr.shape"
      ]
    },
    {
      "cell_type": "code",
      "execution_count": null,
      "metadata": {
        "id": "CigN2Wd49lsp",
        "outputId": "772ecbdd-e7d5-4b88-c4e2-4f1176fcc8c1"
      },
      "outputs": [
        {
          "data": {
            "text/plain": [
              "array([0. , 0.2, 0.4, 0.6, 0.8, 1. , 1.2, 1.4, 1.6, 1.8, 2. ])"
            ]
          },
          "execution_count": 33,
          "metadata": {},
          "output_type": "execute_result"
        }
      ],
      "source": [
        "linarr"
      ]
    },
    {
      "cell_type": "code",
      "execution_count": null,
      "metadata": {
        "id": "wpqOyGCO9lsp",
        "outputId": "f942b319-14d5-4db5-dea2-00600de5b496"
      },
      "outputs": [
        {
          "data": {
            "text/plain": [
              "(11,)"
            ]
          },
          "execution_count": 34,
          "metadata": {},
          "output_type": "execute_result"
        }
      ],
      "source": [
        "linarr.shape"
      ]
    },
    {
      "cell_type": "code",
      "execution_count": null,
      "metadata": {
        "id": "AMCSVMZE9lsp",
        "outputId": "e9a2e00a-9241-49d4-cf27-82064684185e"
      },
      "outputs": [
        {
          "data": {
            "text/plain": [
              "array([[ 0,  1,  2,  3,  4],\n",
              "       [ 5,  6,  7,  8,  9],\n",
              "       [10, 11, 12, 13, 14],\n",
              "       [15, 16, 17, 18, 19],\n",
              "       [20, 21, 22, 23, 24]])"
            ]
          },
          "execution_count": 36,
          "metadata": {},
          "output_type": "execute_result"
        }
      ],
      "source": [
        "reshaped = arr.reshape(5, 5)\n",
        "reshaped"
      ]
    },
    {
      "cell_type": "code",
      "execution_count": null,
      "metadata": {
        "id": "iuk_Wx8u9lsp",
        "outputId": "6f6442fd-103a-4867-860b-fe921281aaf9"
      },
      "outputs": [
        {
          "data": {
            "text/plain": [
              "(5, 5)"
            ]
          },
          "execution_count": 37,
          "metadata": {},
          "output_type": "execute_result"
        }
      ],
      "source": [
        "reshaped.shape"
      ]
    },
    {
      "cell_type": "code",
      "execution_count": null,
      "metadata": {
        "id": "Tz11_OOm9lsq",
        "outputId": "513f2bd8-f491-4b8a-e6e8-36b1a3038081"
      },
      "outputs": [
        {
          "data": {
            "text/plain": [
              "array([ 0,  1,  2,  3,  4,  5,  6,  7,  8,  9, 10, 11, 12, 13, 14, 15, 16,\n",
              "       17, 18, 19, 20, 21, 22, 23, 24])"
            ]
          },
          "execution_count": 38,
          "metadata": {},
          "output_type": "execute_result"
        }
      ],
      "source": [
        "reshaped.reshape(25)"
      ]
    },
    {
      "cell_type": "code",
      "execution_count": null,
      "metadata": {
        "id": "Z0Ak5vZ39lsq",
        "outputId": "32b435a5-5da1-4f16-fbab-b1480b41638e"
      },
      "outputs": [
        {
          "data": {
            "text/plain": [
              "(25,)"
            ]
          },
          "execution_count": 39,
          "metadata": {},
          "output_type": "execute_result"
        }
      ],
      "source": [
        "reshaped.reshape(25).shape"
      ]
    },
    {
      "cell_type": "code",
      "execution_count": null,
      "metadata": {
        "id": "8Ky5OWt09lsq",
        "outputId": "7d6f3389-0c1d-4101-b22c-063732dd8415"
      },
      "outputs": [
        {
          "data": {
            "text/plain": [
              "array([ 0,  1,  2,  3,  4,  5,  6,  7,  8,  9, 10, 11, 12, 13, 14, 15, 16,\n",
              "       17, 18, 19, 20, 21, 22, 23, 24])"
            ]
          },
          "execution_count": 40,
          "metadata": {},
          "output_type": "execute_result"
        }
      ],
      "source": [
        "arr"
      ]
    },
    {
      "cell_type": "code",
      "execution_count": null,
      "metadata": {
        "id": "twKOiDG-9lsq",
        "outputId": "6be85e25-84f6-450e-cb9b-24d30a1477a4"
      },
      "outputs": [
        {
          "data": {
            "text/plain": [
              "array([[ 0,  1,  2,  3,  4,  5,  6,  7,  8,  9, 10, 11, 12, 13, 14, 15,\n",
              "        16, 17, 18, 19, 20, 21, 22, 23, 24]])"
            ]
          },
          "execution_count": 43,
          "metadata": {},
          "output_type": "execute_result"
        }
      ],
      "source": [
        "arr.reshape(1, 25)"
      ]
    },
    {
      "cell_type": "code",
      "execution_count": null,
      "metadata": {
        "id": "oPpcFf_Q9lsr",
        "outputId": "105d0768-6e03-4698-d389-69b126a73c99"
      },
      "outputs": [
        {
          "data": {
            "text/plain": [
              "(1, 25)"
            ]
          },
          "execution_count": 44,
          "metadata": {},
          "output_type": "execute_result"
        }
      ],
      "source": [
        "arr.reshape(1, 25).shape"
      ]
    },
    {
      "cell_type": "code",
      "execution_count": null,
      "metadata": {
        "id": "7O6M31FM9lsr",
        "outputId": "f0a03954-59e0-47ab-ad01-6189aa4cb120"
      },
      "outputs": [
        {
          "data": {
            "text/plain": [
              "array([[ 0],\n",
              "       [ 1],\n",
              "       [ 2],\n",
              "       [ 3],\n",
              "       [ 4],\n",
              "       [ 5],\n",
              "       [ 6],\n",
              "       [ 7],\n",
              "       [ 8],\n",
              "       [ 9],\n",
              "       [10],\n",
              "       [11],\n",
              "       [12],\n",
              "       [13],\n",
              "       [14],\n",
              "       [15],\n",
              "       [16],\n",
              "       [17],\n",
              "       [18],\n",
              "       [19],\n",
              "       [20],\n",
              "       [21],\n",
              "       [22],\n",
              "       [23],\n",
              "       [24]])"
            ]
          },
          "execution_count": 45,
          "metadata": {},
          "output_type": "execute_result"
        }
      ],
      "source": [
        "arr.reshape(25, 1)"
      ]
    },
    {
      "cell_type": "code",
      "execution_count": null,
      "metadata": {
        "id": "lh0epMWV9lsr",
        "outputId": "203b89f5-7e6c-4ee9-d44e-21e925fba4e9"
      },
      "outputs": [
        {
          "data": {
            "text/plain": [
              "(25, 1)"
            ]
          },
          "execution_count": 46,
          "metadata": {},
          "output_type": "execute_result"
        }
      ],
      "source": [
        "arr.reshape(25, 1).shape"
      ]
    },
    {
      "cell_type": "markdown",
      "metadata": {
        "id": "Yhu5zB-F9lsr"
      },
      "source": [
        "# Great Job!"
      ]
    }
  ],
  "metadata": {
    "kernelspec": {
      "display_name": "Python 3 (ipykernel)",
      "language": "python",
      "name": "python3"
    },
    "language_info": {
      "codemirror_mode": {
        "name": "ipython",
        "version": 3
      },
      "file_extension": ".py",
      "mimetype": "text/x-python",
      "name": "python",
      "nbconvert_exporter": "python",
      "pygments_lexer": "ipython3",
      "version": "3.10.6"
    },
    "colab": {
      "provenance": [],
      "include_colab_link": true
    }
  },
  "nbformat": 4,
  "nbformat_minor": 0
}