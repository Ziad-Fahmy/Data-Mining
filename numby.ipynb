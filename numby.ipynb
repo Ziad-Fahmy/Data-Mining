{
  "cells": [
    {
      "cell_type": "markdown",
      "metadata": {
        "id": "view-in-github",
        "colab_type": "text"
      },
      "source": [
        "<a href=\"https://colab.research.google.com/github/Ziad-Fahmy/Data-Mining/blob/main/numby.ipynb\" target=\"_parent\"><img src=\"https://colab.research.google.com/assets/colab-badge.svg\" alt=\"Open In Colab\"/></a>"
      ]
    },
    {
      "cell_type": "markdown",
      "metadata": {
        "id": "H_L4seBVbvoM"
      },
      "source": [
        "##**Importing numpy library**"
      ]
    },
    {
      "cell_type": "code",
      "execution_count": null,
      "metadata": {
        "id": "QQbDWXBRVdVN"
      },
      "outputs": [],
      "source": [
        "import numpy as np"
      ]
    },
    {
      "cell_type": "markdown",
      "metadata": {
        "id": "GqtXPZJ1b2ly"
      },
      "source": [
        "Creating 2d array"
      ]
    },
    {
      "cell_type": "code",
      "execution_count": null,
      "metadata": {
        "colab": {
          "base_uri": "https://localhost:8080/"
        },
        "id": "M0mbd3xEZokg",
        "outputId": "aa6e2224-4c0f-454a-d40d-220acd3e908d"
      },
      "outputs": [
        {
          "data": {
            "text/plain": [
              "array([[ 5, 10, 15],\n",
              "       [20, 25, 30],\n",
              "       [35, 40, 45]])"
            ]
          },
          "execution_count": 4,
          "metadata": {},
          "output_type": "execute_result"
        }
      ],
      "source": [
        "arr_2d =np.array([[5,10,15],\n",
        "                  [20,25,30],\n",
        "                  [35,40,45]])\n",
        "arr_2d"
      ]
    },
    {
      "cell_type": "markdown",
      "metadata": {
        "id": "qbRjRCt4b5yv"
      },
      "source": [
        "Slicing array to 2*2 array"
      ]
    },
    {
      "cell_type": "code",
      "execution_count": null,
      "metadata": {
        "colab": {
          "base_uri": "https://localhost:8080/"
        },
        "id": "zWIElRkhbNNh",
        "outputId": "34868bb0-35d8-40b7-b882-33ceae39306a"
      },
      "outputs": [
        {
          "data": {
            "text/plain": [
              "array([[ 5, 10],\n",
              "       [20, 25]])"
            ]
          },
          "execution_count": 5,
          "metadata": {},
          "output_type": "execute_result"
        }
      ],
      "source": [
        "arr_2d[:2,:2]"
      ]
    },
    {
      "cell_type": "code",
      "execution_count": null,
      "metadata": {
        "colab": {
          "background_save": true,
          "base_uri": "https://localhost:8080/"
        },
        "id": "Z7uJItEPdNDN",
        "outputId": "eb50fb54-f1ff-4d58-c03c-c1ab62094350"
      },
      "outputs": [
        {
          "data": {
            "text/plain": [
              "array([[10],\n",
              "       [25],\n",
              "       [40]])"
            ]
          },
          "execution_count": 8,
          "metadata": {},
          "output_type": "execute_result"
        }
      ],
      "source": [
        "arr_2d[:, 1:2]"
      ]
    },
    {
      "cell_type": "code",
      "source": [
        "arr =np.arange(0,10)\n",
        "arr\n"
      ],
      "metadata": {
        "colab": {
          "base_uri": "https://localhost:8080/"
        },
        "id": "gCE7YO40mZ4o",
        "outputId": "e1b2bfd0-b099-4ce9-bf9c-ab0371c40944"
      },
      "execution_count": 43,
      "outputs": [
        {
          "output_type": "execute_result",
          "data": {
            "text/plain": [
              "array([0, 1, 2, 3, 4, 5, 6, 7, 8, 9])"
            ]
          },
          "metadata": {},
          "execution_count": 43
        }
      ]
    },
    {
      "cell_type": "code",
      "source": [
        "arr + 3\n",
        "\n"
      ],
      "metadata": {
        "colab": {
          "base_uri": "https://localhost:8080/"
        },
        "id": "CED9AKPFmelO",
        "outputId": "ba80fdc3-ded1-40d7-e5e6-cae62bc25497"
      },
      "execution_count": 15,
      "outputs": [
        {
          "output_type": "execute_result",
          "data": {
            "text/plain": [
              "array([ 4,  5,  6,  7,  8,  9, 10, 11, 12, 13])"
            ]
          },
          "metadata": {},
          "execution_count": 15
        }
      ]
    },
    {
      "cell_type": "code",
      "source": [
        "arr*10\n"
      ],
      "metadata": {
        "colab": {
          "base_uri": "https://localhost:8080/"
        },
        "id": "pbu1lrO0mgln",
        "outputId": "7f0af96e-14be-49dd-d6c6-1b59bedbd573"
      },
      "execution_count": 16,
      "outputs": [
        {
          "output_type": "execute_result",
          "data": {
            "text/plain": [
              "array([ 10,  20,  30,  40,  50,  60,  70,  80,  90, 100])"
            ]
          },
          "metadata": {},
          "execution_count": 16
        }
      ]
    },
    {
      "cell_type": "code",
      "source": [
        "arr -10\n"
      ],
      "metadata": {
        "colab": {
          "base_uri": "https://localhost:8080/"
        },
        "id": "PuQi4Z8dmhsA",
        "outputId": "26cd22d5-6213-4dfa-de91-0ca89a69e933"
      },
      "execution_count": 17,
      "outputs": [
        {
          "output_type": "execute_result",
          "data": {
            "text/plain": [
              "array([-9, -8, -7, -6, -5, -4, -3, -2, -1,  0])"
            ]
          },
          "metadata": {},
          "execution_count": 17
        }
      ]
    },
    {
      "cell_type": "code",
      "source": [
        "arr / arr\n"
      ],
      "metadata": {
        "colab": {
          "base_uri": "https://localhost:8080/"
        },
        "id": "mUnZHtWymkt5",
        "outputId": "20cf0976-e1da-40d7-e6d9-a0c047e7961b"
      },
      "execution_count": 22,
      "outputs": [
        {
          "output_type": "stream",
          "name": "stderr",
          "text": [
            "<ipython-input-22-7f952cd3e0ce>:1: RuntimeWarning: invalid value encountered in divide\n",
            "  arr / arr\n"
          ]
        },
        {
          "output_type": "execute_result",
          "data": {
            "text/plain": [
              "array([nan,  1.,  1.,  1.,  1.,  1.,  1.,  1.,  1.,  1.])"
            ]
          },
          "metadata": {},
          "execution_count": 22
        }
      ]
    },
    {
      "cell_type": "code",
      "source": [
        "1/arr\n"
      ],
      "metadata": {
        "colab": {
          "base_uri": "https://localhost:8080/"
        },
        "id": "GuqWld43ml6T",
        "outputId": "6a74d560-b00e-4adb-81c4-aacd8ac5daf5"
      },
      "execution_count": 21,
      "outputs": [
        {
          "output_type": "stream",
          "name": "stderr",
          "text": [
            "<ipython-input-21-016353831300>:1: RuntimeWarning: divide by zero encountered in divide\n",
            "  1/arr\n"
          ]
        },
        {
          "output_type": "execute_result",
          "data": {
            "text/plain": [
              "array([       inf, 1.        , 0.5       , 0.33333333, 0.25      ,\n",
              "       0.2       , 0.16666667, 0.14285714, 0.125     , 0.11111111])"
            ]
          },
          "metadata": {},
          "execution_count": 21
        }
      ]
    },
    {
      "cell_type": "code",
      "source": [
        "arr **3\n"
      ],
      "metadata": {
        "colab": {
          "base_uri": "https://localhost:8080/"
        },
        "id": "ojpKr4QAmsIh",
        "outputId": "bf5abbea-db35-4dd0-ddf0-b18016be78e5"
      },
      "execution_count": 23,
      "outputs": [
        {
          "output_type": "execute_result",
          "data": {
            "text/plain": [
              "array([  0,   1,   8,  27,  64, 125, 216, 343, 512, 729])"
            ]
          },
          "metadata": {},
          "execution_count": 23
        }
      ]
    },
    {
      "cell_type": "markdown",
      "source": [
        "#Logic"
      ],
      "metadata": {
        "id": "beKllbpvnB-W"
      }
    },
    {
      "cell_type": "code",
      "source": [
        "arr > 3\n"
      ],
      "metadata": {
        "colab": {
          "base_uri": "https://localhost:8080/"
        },
        "id": "SdRIQY7znBj2",
        "outputId": "2cfeab5b-bfdb-4c8e-c5b0-ec3a9643dc1b"
      },
      "execution_count": 24,
      "outputs": [
        {
          "output_type": "execute_result",
          "data": {
            "text/plain": [
              "array([False, False, False, False,  True,  True,  True,  True,  True,\n",
              "        True])"
            ]
          },
          "metadata": {},
          "execution_count": 24
        }
      ]
    },
    {
      "cell_type": "code",
      "source": [
        "arr != 3\n"
      ],
      "metadata": {
        "colab": {
          "base_uri": "https://localhost:8080/"
        },
        "id": "6XAIjMK6m0VQ",
        "outputId": "1d5e9b95-b39f-4e48-83ff-9533009cbb1e"
      },
      "execution_count": 25,
      "outputs": [
        {
          "output_type": "execute_result",
          "data": {
            "text/plain": [
              "array([ True,  True,  True, False,  True,  True,  True,  True,  True,\n",
              "        True])"
            ]
          },
          "metadata": {},
          "execution_count": 25
        }
      ]
    },
    {
      "cell_type": "code",
      "source": [
        "arr = np.random.randint(0,10,(3,3))\n",
        "arr"
      ],
      "metadata": {
        "colab": {
          "base_uri": "https://localhost:8080/"
        },
        "id": "vefJMG8unHon",
        "outputId": "1fa2d1ce-e9cf-4278-8927-1ba95afb36bd"
      },
      "execution_count": 27,
      "outputs": [
        {
          "output_type": "execute_result",
          "data": {
            "text/plain": [
              "array([[2, 6, 6],\n",
              "       [7, 7, 8],\n",
              "       [5, 8, 0]])"
            ]
          },
          "metadata": {},
          "execution_count": 27
        }
      ]
    },
    {
      "cell_type": "code",
      "source": [
        "arr +3"
      ],
      "metadata": {
        "colab": {
          "base_uri": "https://localhost:8080/"
        },
        "id": "JxgAeudVneA9",
        "outputId": "35906849-ccd9-48b3-d8cc-723c339a8b0f"
      },
      "execution_count": 28,
      "outputs": [
        {
          "output_type": "execute_result",
          "data": {
            "text/plain": [
              "array([[ 5,  9,  9],\n",
              "       [10, 10, 11],\n",
              "       [ 8, 11,  3]])"
            ]
          },
          "metadata": {},
          "execution_count": 28
        }
      ]
    },
    {
      "cell_type": "code",
      "source": [
        "arr * 3"
      ],
      "metadata": {
        "colab": {
          "base_uri": "https://localhost:8080/"
        },
        "id": "AHqSqFW5nkLA",
        "outputId": "9c8c8075-3597-4161-ffcc-44878f481432"
      },
      "execution_count": 29,
      "outputs": [
        {
          "output_type": "execute_result",
          "data": {
            "text/plain": [
              "array([[ 6, 18, 18],\n",
              "       [21, 21, 24],\n",
              "       [15, 24,  0]])"
            ]
          },
          "metadata": {},
          "execution_count": 29
        }
      ]
    },
    {
      "cell_type": "code",
      "source": [
        "arr +3 * arr"
      ],
      "metadata": {
        "colab": {
          "base_uri": "https://localhost:8080/"
        },
        "id": "KYgL6NmSnlYQ",
        "outputId": "feee4577-70b3-4d1e-b326-8f6ac0f3250a"
      },
      "execution_count": 30,
      "outputs": [
        {
          "output_type": "execute_result",
          "data": {
            "text/plain": [
              "array([[ 8, 24, 24],\n",
              "       [28, 28, 32],\n",
              "       [20, 32,  0]])"
            ]
          },
          "metadata": {},
          "execution_count": 30
        }
      ]
    },
    {
      "cell_type": "markdown",
      "source": [
        "##Unifersal array function"
      ],
      "metadata": {
        "id": "uLVNEvpToCju"
      }
    },
    {
      "cell_type": "code",
      "source": [
        "matrix =np.random.randint(0,100,(5,3))\n",
        "matrix"
      ],
      "metadata": {
        "colab": {
          "base_uri": "https://localhost:8080/"
        },
        "id": "CH5pWgIPnx4n",
        "outputId": "8ab0eed1-387d-48fa-de3a-9787ad85d43e"
      },
      "execution_count": 36,
      "outputs": [
        {
          "output_type": "execute_result",
          "data": {
            "text/plain": [
              "array([[66, 67, 73],\n",
              "       [59, 76, 49],\n",
              "       [82, 39, 91],\n",
              "       [49, 74, 82],\n",
              "       [19,  8, 90]])"
            ]
          },
          "metadata": {},
          "execution_count": 36
        }
      ]
    },
    {
      "cell_type": "code",
      "source": [
        "np.max(arr)"
      ],
      "metadata": {
        "colab": {
          "base_uri": "https://localhost:8080/"
        },
        "id": "NBTrI9WgoInD",
        "outputId": "bb9dc5e4-279e-432f-dda3-7388d0ef419d"
      },
      "execution_count": 32,
      "outputs": [
        {
          "output_type": "execute_result",
          "data": {
            "text/plain": [
              "98"
            ]
          },
          "metadata": {},
          "execution_count": 32
        }
      ]
    },
    {
      "cell_type": "code",
      "source": [
        "np.max(arr,axis=0)"
      ],
      "metadata": {
        "colab": {
          "base_uri": "https://localhost:8080/"
        },
        "id": "18Kng6yyoqjl",
        "outputId": "04694bf6-8c16-4beb-d2ee-3b5aa80752c2"
      },
      "execution_count": 33,
      "outputs": [
        {
          "output_type": "execute_result",
          "data": {
            "text/plain": [
              "array([97, 47, 98])"
            ]
          },
          "metadata": {},
          "execution_count": 33
        }
      ]
    },
    {
      "cell_type": "code",
      "source": [
        "np.max(arr,axis=1)"
      ],
      "metadata": {
        "colab": {
          "base_uri": "https://localhost:8080/"
        },
        "id": "hebl4ZlFosdg",
        "outputId": "4e0ffe8f-ce99-473c-8562-cb5e416212f1"
      },
      "execution_count": 34,
      "outputs": [
        {
          "output_type": "execute_result",
          "data": {
            "text/plain": [
              "array([98, 97, 86, 33,  4])"
            ]
          },
          "metadata": {},
          "execution_count": 34
        }
      ]
    },
    {
      "cell_type": "code",
      "source": [
        "np.min(matrix,axis=0)"
      ],
      "metadata": {
        "colab": {
          "base_uri": "https://localhost:8080/"
        },
        "id": "kDAipqO7o-Va",
        "outputId": "919f1090-e225-45f2-8bc2-2c918e3b6851"
      },
      "execution_count": 37,
      "outputs": [
        {
          "output_type": "execute_result",
          "data": {
            "text/plain": [
              "array([19,  8, 49])"
            ]
          },
          "metadata": {},
          "execution_count": 37
        }
      ]
    },
    {
      "cell_type": "code",
      "source": [
        "np.min(matrix,axis=1)"
      ],
      "metadata": {
        "colab": {
          "base_uri": "https://localhost:8080/"
        },
        "id": "_tSp8gwVp7eO",
        "outputId": "81f5fdbc-5d82-4f32-e799-141176dc5227"
      },
      "execution_count": 38,
      "outputs": [
        {
          "output_type": "execute_result",
          "data": {
            "text/plain": [
              "array([66, 49, 39, 49,  8])"
            ]
          },
          "metadata": {},
          "execution_count": 38
        }
      ]
    },
    {
      "cell_type": "code",
      "source": [
        "np.max(matrix,axis=0)"
      ],
      "metadata": {
        "colab": {
          "base_uri": "https://localhost:8080/"
        },
        "id": "_CtCzdM5qATG",
        "outputId": "032a263d-4c2b-4c45-c432-fa77728f6adb"
      },
      "execution_count": 39,
      "outputs": [
        {
          "output_type": "execute_result",
          "data": {
            "text/plain": [
              "array([82, 76, 91])"
            ]
          },
          "metadata": {},
          "execution_count": 39
        }
      ]
    },
    {
      "cell_type": "code",
      "source": [
        "np.max(matrix,axis=1)"
      ],
      "metadata": {
        "colab": {
          "base_uri": "https://localhost:8080/"
        },
        "id": "gdKmtFrSqBn-",
        "outputId": "4e9758e4-f67e-4b53-e7c0-2db6725d98cf"
      },
      "execution_count": 40,
      "outputs": [
        {
          "output_type": "execute_result",
          "data": {
            "text/plain": [
              "array([73, 76, 91, 82, 90])"
            ]
          },
          "metadata": {},
          "execution_count": 40
        }
      ]
    },
    {
      "cell_type": "code",
      "source": [
        "np.average(arr)"
      ],
      "metadata": {
        "colab": {
          "base_uri": "https://localhost:8080/"
        },
        "id": "SZQ_EwJAqCz1",
        "outputId": "eab3c708-69c1-4ec5-eb0a-6af86039955c"
      },
      "execution_count": 44,
      "outputs": [
        {
          "output_type": "execute_result",
          "data": {
            "text/plain": [
              "4.5"
            ]
          },
          "metadata": {},
          "execution_count": 44
        }
      ]
    },
    {
      "cell_type": "code",
      "source": [
        "np.average(matrix)"
      ],
      "metadata": {
        "colab": {
          "base_uri": "https://localhost:8080/"
        },
        "id": "DzEJ1T-cqNa9",
        "outputId": "8dc8f6e4-853c-4fb9-f3a8-774417da8fac"
      },
      "execution_count": 46,
      "outputs": [
        {
          "output_type": "execute_result",
          "data": {
            "text/plain": [
              "61.6"
            ]
          },
          "metadata": {},
          "execution_count": 46
        }
      ]
    },
    {
      "cell_type": "code",
      "source": [
        "np.sum(arr)"
      ],
      "metadata": {
        "colab": {
          "base_uri": "https://localhost:8080/"
        },
        "id": "YCly-PS3qPCi",
        "outputId": "87484754-5efa-4a97-fd79-5a533f246dfc"
      },
      "execution_count": 47,
      "outputs": [
        {
          "output_type": "execute_result",
          "data": {
            "text/plain": [
              "45"
            ]
          },
          "metadata": {},
          "execution_count": 47
        }
      ]
    },
    {
      "cell_type": "code",
      "source": [
        "np.sum(matrix)"
      ],
      "metadata": {
        "colab": {
          "base_uri": "https://localhost:8080/"
        },
        "id": "Mr65xjw6qyQt",
        "outputId": "c26b7e8d-2d8e-4e43-fc0a-c47f01a8ecaf"
      },
      "execution_count": 48,
      "outputs": [
        {
          "output_type": "execute_result",
          "data": {
            "text/plain": [
              "924"
            ]
          },
          "metadata": {},
          "execution_count": 48
        }
      ]
    },
    {
      "cell_type": "code",
      "source": [
        "np.sum(arr,axis=0)"
      ],
      "metadata": {
        "colab": {
          "base_uri": "https://localhost:8080/"
        },
        "id": "PIuAAyNYqzOO",
        "outputId": "dd2d4f54-fc80-45bc-802b-0dede9e4448b"
      },
      "execution_count": 49,
      "outputs": [
        {
          "output_type": "execute_result",
          "data": {
            "text/plain": [
              "45"
            ]
          },
          "metadata": {},
          "execution_count": 49
        }
      ]
    },
    {
      "cell_type": "code",
      "source": [
        "np.sum(matrix,axis=1)"
      ],
      "metadata": {
        "colab": {
          "base_uri": "https://localhost:8080/"
        },
        "id": "b84xI8Hdq0xJ",
        "outputId": "66926b9c-d9a4-4bb6-e642-5a257df54ab4"
      },
      "execution_count": 51,
      "outputs": [
        {
          "output_type": "execute_result",
          "data": {
            "text/plain": [
              "array([206, 184, 212, 205, 117])"
            ]
          },
          "metadata": {},
          "execution_count": 51
        }
      ]
    },
    {
      "cell_type": "code",
      "source": [
        "np.sum(matrix,axis=0)"
      ],
      "metadata": {
        "colab": {
          "base_uri": "https://localhost:8080/"
        },
        "id": "kaSy8Io4q1kZ",
        "outputId": "82957acb-9c7d-49d7-8cba-4c3afd2f0726"
      },
      "execution_count": 52,
      "outputs": [
        {
          "output_type": "execute_result",
          "data": {
            "text/plain": [
              "array([275, 264, 385])"
            ]
          },
          "metadata": {},
          "execution_count": 52
        }
      ]
    },
    {
      "cell_type": "code",
      "source": [],
      "metadata": {
        "id": "uvezN7yFq5so"
      },
      "execution_count": null,
      "outputs": []
    },
    {
      "cell_type": "markdown",
      "source": [
        "Power"
      ],
      "metadata": {
        "id": "F9rCjZ0-sEjx"
      }
    },
    {
      "cell_type": "code",
      "source": [
        "np.power(arr,3)"
      ],
      "metadata": {
        "colab": {
          "base_uri": "https://localhost:8080/"
        },
        "id": "_fwlhEZ4sEKn",
        "outputId": "a6ad044e-03b9-417b-f4a4-251ca22fcca1"
      },
      "execution_count": 53,
      "outputs": [
        {
          "output_type": "execute_result",
          "data": {
            "text/plain": [
              "array([  0,   1,   8,  27,  64, 125, 216, 343, 512, 729])"
            ]
          },
          "metadata": {},
          "execution_count": 53
        }
      ]
    },
    {
      "cell_type": "code",
      "source": [
        "np.power(matrix,3)"
      ],
      "metadata": {
        "colab": {
          "base_uri": "https://localhost:8080/"
        },
        "id": "xfxvGd4EsHh8",
        "outputId": "72d1a433-ed12-48b1-8cd2-10f72f35d887"
      },
      "execution_count": 54,
      "outputs": [
        {
          "output_type": "execute_result",
          "data": {
            "text/plain": [
              "array([[287496, 300763, 389017],\n",
              "       [205379, 438976, 117649],\n",
              "       [551368,  59319, 753571],\n",
              "       [117649, 405224, 551368],\n",
              "       [  6859,    512, 729000]])"
            ]
          },
          "metadata": {},
          "execution_count": 54
        }
      ]
    },
    {
      "cell_type": "code",
      "source": [
        "np.sqrt(arr)"
      ],
      "metadata": {
        "colab": {
          "base_uri": "https://localhost:8080/"
        },
        "id": "2lfAEuzssI3R",
        "outputId": "ac9ba76d-e1d3-4bb0-d803-ce2cc05bb210"
      },
      "execution_count": 55,
      "outputs": [
        {
          "output_type": "execute_result",
          "data": {
            "text/plain": [
              "array([0.        , 1.        , 1.41421356, 1.73205081, 2.        ,\n",
              "       2.23606798, 2.44948974, 2.64575131, 2.82842712, 3.        ])"
            ]
          },
          "metadata": {},
          "execution_count": 55
        }
      ]
    },
    {
      "cell_type": "code",
      "source": [
        "np.sqrt(matrix)"
      ],
      "metadata": {
        "colab": {
          "base_uri": "https://localhost:8080/"
        },
        "id": "aWmPSy8nsNVg",
        "outputId": "fee6e6ef-9453-478d-e2ed-0524012c9f5f"
      },
      "execution_count": 56,
      "outputs": [
        {
          "output_type": "execute_result",
          "data": {
            "text/plain": [
              "array([[8.1240384 , 8.18535277, 8.54400375],\n",
              "       [7.68114575, 8.71779789, 7.        ],\n",
              "       [9.05538514, 6.244998  , 9.53939201],\n",
              "       [7.        , 8.60232527, 9.05538514],\n",
              "       [4.35889894, 2.82842712, 9.48683298]])"
            ]
          },
          "metadata": {},
          "execution_count": 56
        }
      ]
    },
    {
      "cell_type": "markdown",
      "source": [
        "exponential"
      ],
      "metadata": {
        "id": "Xhg_lRLysTdI"
      }
    },
    {
      "cell_type": "code",
      "source": [
        "np.exp(arr)"
      ],
      "metadata": {
        "colab": {
          "base_uri": "https://localhost:8080/"
        },
        "id": "JBKxawM8sOBL",
        "outputId": "f7376157-164e-4bdb-a770-0ec675065418"
      },
      "execution_count": 57,
      "outputs": [
        {
          "output_type": "execute_result",
          "data": {
            "text/plain": [
              "array([1.00000000e+00, 2.71828183e+00, 7.38905610e+00, 2.00855369e+01,\n",
              "       5.45981500e+01, 1.48413159e+02, 4.03428793e+02, 1.09663316e+03,\n",
              "       2.98095799e+03, 8.10308393e+03])"
            ]
          },
          "metadata": {},
          "execution_count": 57
        }
      ]
    },
    {
      "cell_type": "code",
      "source": [
        "np.exp(matrix)"
      ],
      "metadata": {
        "colab": {
          "base_uri": "https://localhost:8080/"
        },
        "id": "c2qOZI_osa9X",
        "outputId": "af921dff-7046-4ab6-cd0d-e6750a3e929e"
      },
      "execution_count": 58,
      "outputs": [
        {
          "output_type": "execute_result",
          "data": {
            "text/plain": [
              "array([[4.60718663e+28, 1.25236317e+29, 5.05239363e+31],\n",
              "       [4.20121040e+25, 1.01480039e+33, 1.90734657e+21],\n",
              "       [4.09399696e+35, 8.65934004e+16, 3.31740010e+39],\n",
              "       [1.90734657e+21, 1.37338298e+32, 4.09399696e+35],\n",
              "       [1.78482301e+08, 2.98095799e+03, 1.22040329e+39]])"
            ]
          },
          "metadata": {},
          "execution_count": 58
        }
      ]
    },
    {
      "cell_type": "markdown",
      "source": [
        "Log()"
      ],
      "metadata": {
        "id": "WFgBUgauseWz"
      }
    },
    {
      "cell_type": "code",
      "source": [
        "np.log(arr)"
      ],
      "metadata": {
        "colab": {
          "base_uri": "https://localhost:8080/"
        },
        "id": "X-xjGxrKscF7",
        "outputId": "3e88cc51-83cc-475f-8ff8-550ba44767c9"
      },
      "execution_count": 59,
      "outputs": [
        {
          "output_type": "stream",
          "name": "stderr",
          "text": [
            "<ipython-input-59-a67b4ae04e95>:1: RuntimeWarning: divide by zero encountered in log\n",
            "  np.log(arr)\n"
          ]
        },
        {
          "output_type": "execute_result",
          "data": {
            "text/plain": [
              "array([      -inf, 0.        , 0.69314718, 1.09861229, 1.38629436,\n",
              "       1.60943791, 1.79175947, 1.94591015, 2.07944154, 2.19722458])"
            ]
          },
          "metadata": {},
          "execution_count": 59
        }
      ]
    },
    {
      "cell_type": "code",
      "source": [
        "np.log(matrix)"
      ],
      "metadata": {
        "colab": {
          "base_uri": "https://localhost:8080/"
        },
        "id": "wUGbkk1gsgwh",
        "outputId": "e8e72ac0-0432-4062-a099-b4356a8f781f"
      },
      "execution_count": 60,
      "outputs": [
        {
          "output_type": "execute_result",
          "data": {
            "text/plain": [
              "array([[4.18965474, 4.20469262, 4.29045944],\n",
              "       [4.07753744, 4.33073334, 3.8918203 ],\n",
              "       [4.40671925, 3.66356165, 4.51085951],\n",
              "       [3.8918203 , 4.30406509, 4.40671925],\n",
              "       [2.94443898, 2.07944154, 4.49980967]])"
            ]
          },
          "metadata": {},
          "execution_count": 60
        }
      ]
    },
    {
      "cell_type": "markdown",
      "source": [
        "sin, cos, tan"
      ],
      "metadata": {
        "id": "xMRHyfHqtFFy"
      }
    },
    {
      "cell_type": "code",
      "source": [
        "angels_arr = np.linspace(0,360,9).reshape(3,3)\n",
        "angels_arr"
      ],
      "metadata": {
        "colab": {
          "base_uri": "https://localhost:8080/"
        },
        "id": "bm4YA5tyshmH",
        "outputId": "f2b680b3-012e-4fba-c4e9-331426aeddfc"
      },
      "execution_count": 61,
      "outputs": [
        {
          "output_type": "execute_result",
          "data": {
            "text/plain": [
              "array([[  0.,  45.,  90.],\n",
              "       [135., 180., 225.],\n",
              "       [270., 315., 360.]])"
            ]
          },
          "metadata": {},
          "execution_count": 61
        }
      ]
    },
    {
      "cell_type": "code",
      "source": [
        "angels_arr = (angels_arr*2*np.pi)/360\n",
        "\n",
        "angels_arr"
      ],
      "metadata": {
        "colab": {
          "base_uri": "https://localhost:8080/"
        },
        "id": "_PEYlYg7tUKk",
        "outputId": "33f96ea2-be63-4c10-f5b6-ae81ee43502f"
      },
      "execution_count": 62,
      "outputs": [
        {
          "output_type": "execute_result",
          "data": {
            "text/plain": [
              "array([[0.        , 0.78539816, 1.57079633],\n",
              "       [2.35619449, 3.14159265, 3.92699082],\n",
              "       [4.71238898, 5.49778714, 6.28318531]])"
            ]
          },
          "metadata": {},
          "execution_count": 62
        }
      ]
    },
    {
      "cell_type": "code",
      "source": [
        "np.sin(angels_arr)"
      ],
      "metadata": {
        "colab": {
          "base_uri": "https://localhost:8080/"
        },
        "id": "H46LYzkptn-j",
        "outputId": "9ab16ade-905a-4ddd-ea84-cc60d10d52cb"
      },
      "execution_count": 63,
      "outputs": [
        {
          "output_type": "execute_result",
          "data": {
            "text/plain": [
              "array([[ 0.00000000e+00,  7.07106781e-01,  1.00000000e+00],\n",
              "       [ 7.07106781e-01,  1.22464680e-16, -7.07106781e-01],\n",
              "       [-1.00000000e+00, -7.07106781e-01, -2.44929360e-16]])"
            ]
          },
          "metadata": {},
          "execution_count": 63
        }
      ]
    },
    {
      "cell_type": "code",
      "source": [
        "np.cos(angels_arr)"
      ],
      "metadata": {
        "colab": {
          "base_uri": "https://localhost:8080/"
        },
        "id": "Z7jA_lsitpmO",
        "outputId": "89ef8772-f807-42d8-f143-0a5272287ab7"
      },
      "execution_count": 64,
      "outputs": [
        {
          "output_type": "execute_result",
          "data": {
            "text/plain": [
              "array([[ 1.00000000e+00,  7.07106781e-01,  6.12323400e-17],\n",
              "       [-7.07106781e-01, -1.00000000e+00, -7.07106781e-01],\n",
              "       [-1.83697020e-16,  7.07106781e-01,  1.00000000e+00]])"
            ]
          },
          "metadata": {},
          "execution_count": 64
        }
      ]
    },
    {
      "cell_type": "code",
      "source": [
        "np.tan(angels_arr)"
      ],
      "metadata": {
        "colab": {
          "base_uri": "https://localhost:8080/"
        },
        "id": "vqzmSoG-tqNF",
        "outputId": "03b0d583-50c0-4394-9712-c592b6e23ba3"
      },
      "execution_count": 65,
      "outputs": [
        {
          "output_type": "execute_result",
          "data": {
            "text/plain": [
              "array([[ 0.00000000e+00,  1.00000000e+00,  1.63312394e+16],\n",
              "       [-1.00000000e+00, -1.22464680e-16,  1.00000000e+00],\n",
              "       [ 5.44374645e+15, -1.00000000e+00, -2.44929360e-16]])"
            ]
          },
          "metadata": {},
          "execution_count": 65
        }
      ]
    },
    {
      "cell_type": "markdown",
      "source": [
        "dot Product"
      ],
      "metadata": {
        "id": "Y9G1z-kat4fK"
      }
    },
    {
      "cell_type": "code",
      "source": [
        "mat = np.arange(9).reshape(3,3)\n",
        "vec1 = np.array([1,2,3])\n",
        "\n",
        "print(mat)\n",
        "print()\n",
        "print(vec1)\n",
        "print()\n",
        "print(np.dot(mat,vec1)) #dot product"
      ],
      "metadata": {
        "colab": {
          "base_uri": "https://localhost:8080/"
        },
        "id": "P3cfV23Otq72",
        "outputId": "f4950580-735b-4fea-d196-0e6f03c7e07e"
      },
      "execution_count": 68,
      "outputs": [
        {
          "output_type": "stream",
          "name": "stdout",
          "text": [
            "[[0 1 2]\n",
            " [3 4 5]\n",
            " [6 7 8]]\n",
            "\n",
            "[1 2 3]\n",
            "\n",
            "[ 8 26 44]\n"
          ]
        }
      ]
    },
    {
      "cell_type": "markdown",
      "source": [
        "###combine and split data"
      ],
      "metadata": {
        "id": "myddc_VTuX4M"
      }
    },
    {
      "cell_type": "markdown",
      "source": [
        "hstack"
      ],
      "metadata": {
        "id": "JY-LR0z6upM3"
      }
    },
    {
      "cell_type": "code",
      "source": [
        "data1 = np.random.randint(5,15,size=(5,3))\n",
        "data1"
      ],
      "metadata": {
        "colab": {
          "base_uri": "https://localhost:8080/"
        },
        "id": "5V7F_MU2uMe-",
        "outputId": "2ac79801-49fe-46dd-8797-b81930a744b6"
      },
      "execution_count": 69,
      "outputs": [
        {
          "output_type": "execute_result",
          "data": {
            "text/plain": [
              "array([[ 6, 13,  8],\n",
              "       [14,  6,  8],\n",
              "       [10, 13, 11],\n",
              "       [12,  8,  6],\n",
              "       [ 6,  5,  5]])"
            ]
          },
          "metadata": {},
          "execution_count": 69
        }
      ]
    },
    {
      "cell_type": "code",
      "source": [
        "data2 = np.random.randint(5,15,size=(5,3))\n",
        "data2"
      ],
      "metadata": {
        "colab": {
          "base_uri": "https://localhost:8080/"
        },
        "id": "zhE18LR8uns2",
        "outputId": "2b8314d8-7f0c-4ce6-9de8-ccdcf8fa7e6c"
      },
      "execution_count": 70,
      "outputs": [
        {
          "output_type": "execute_result",
          "data": {
            "text/plain": [
              "array([[12, 14, 10],\n",
              "       [ 9,  9,  8],\n",
              "       [12,  5,  9],\n",
              "       [ 9,  7,  8],\n",
              "       [13,  5,  9]])"
            ]
          },
          "metadata": {},
          "execution_count": 70
        }
      ]
    },
    {
      "cell_type": "code",
      "source": [
        "np.hstack((data1,data2))   #make two matrices together in matrix h axis"
      ],
      "metadata": {
        "colab": {
          "base_uri": "https://localhost:8080/"
        },
        "id": "rkt7PVmWuxL6",
        "outputId": "b3ba24e6-c3ad-40d4-b716-22473e7ddf0b"
      },
      "execution_count": 71,
      "outputs": [
        {
          "output_type": "execute_result",
          "data": {
            "text/plain": [
              "array([[ 6, 13,  8, 12, 14, 10],\n",
              "       [14,  6,  8,  9,  9,  8],\n",
              "       [10, 13, 11, 12,  5,  9],\n",
              "       [12,  8,  6,  9,  7,  8],\n",
              "       [ 6,  5,  5, 13,  5,  9]])"
            ]
          },
          "metadata": {},
          "execution_count": 71
        }
      ]
    },
    {
      "cell_type": "code",
      "source": [
        "np.vstack((data1,data2))  #make two matrices together in matrix y axis"
      ],
      "metadata": {
        "colab": {
          "base_uri": "https://localhost:8080/"
        },
        "id": "oXO6XsZRvZnS",
        "outputId": "061bfe41-0054-401e-fd35-b9fe78571dfe"
      },
      "execution_count": 72,
      "outputs": [
        {
          "output_type": "execute_result",
          "data": {
            "text/plain": [
              "array([[ 6, 13,  8],\n",
              "       [14,  6,  8],\n",
              "       [10, 13, 11],\n",
              "       [12,  8,  6],\n",
              "       [ 6,  5,  5],\n",
              "       [12, 14, 10],\n",
              "       [ 9,  9,  8],\n",
              "       [12,  5,  9],\n",
              "       [ 9,  7,  8],\n",
              "       [13,  5,  9]])"
            ]
          },
          "metadata": {},
          "execution_count": 72
        }
      ]
    },
    {
      "cell_type": "code",
      "source": [
        "np.concatenate((data1,data2),axis=0)"
      ],
      "metadata": {
        "colab": {
          "base_uri": "https://localhost:8080/"
        },
        "id": "fY4zJDTtvbCS",
        "outputId": "de70eeb1-66b0-4f67-f07a-4ea007bab6d3"
      },
      "execution_count": 73,
      "outputs": [
        {
          "output_type": "execute_result",
          "data": {
            "text/plain": [
              "array([[ 6, 13,  8],\n",
              "       [14,  6,  8],\n",
              "       [10, 13, 11],\n",
              "       [12,  8,  6],\n",
              "       [ 6,  5,  5],\n",
              "       [12, 14, 10],\n",
              "       [ 9,  9,  8],\n",
              "       [12,  5,  9],\n",
              "       [ 9,  7,  8],\n",
              "       [13,  5,  9]])"
            ]
          },
          "metadata": {},
          "execution_count": 73
        }
      ]
    },
    {
      "cell_type": "code",
      "source": [
        "stcked_data = np.concatenate((data1,data2),axis=1)"
      ],
      "metadata": {
        "id": "PXWE168rwBi3"
      },
      "execution_count": 80,
      "outputs": []
    },
    {
      "cell_type": "code",
      "source": [
        "left, right =np.hsplit(stcked_data,2)\n",
        "print(left)\n",
        "print()\n",
        "print(right)"
      ],
      "metadata": {
        "colab": {
          "base_uri": "https://localhost:8080/"
        },
        "id": "gY2OJGrOwCfR",
        "outputId": "a71265c8-4f71-489e-a292-35a1ca9b45ef"
      },
      "execution_count": 81,
      "outputs": [
        {
          "output_type": "stream",
          "name": "stdout",
          "text": [
            "[[ 6 13  8]\n",
            " [14  6  8]\n",
            " [10 13 11]\n",
            " [12  8  6]\n",
            " [ 6  5  5]]\n",
            "\n",
            "[[12 14 10]\n",
            " [ 9  9  8]\n",
            " [12  5  9]\n",
            " [ 9  7  8]\n",
            " [13  5  9]]\n"
          ]
        }
      ]
    },
    {
      "cell_type": "code",
      "source": [
        "v_stacked_data = np.vstack((data1,data2))"
      ],
      "metadata": {
        "id": "LZLn6v7dw-h8"
      },
      "execution_count": 82,
      "outputs": []
    },
    {
      "cell_type": "code",
      "source": [
        "up, down = np.vsplit(v_stacked_data,2)\n",
        "print(up)\n",
        "print()\n"
      ],
      "metadata": {
        "colab": {
          "base_uri": "https://localhost:8080/"
        },
        "id": "Cq3ifP-axrju",
        "outputId": "04661a21-58f6-4551-f558-49911389aaf9"
      },
      "execution_count": 85,
      "outputs": [
        {
          "output_type": "stream",
          "name": "stdout",
          "text": [
            "[[ 6 13  8]\n",
            " [14  6  8]\n",
            " [10 13 11]\n",
            " [12  8  6]\n",
            " [ 6  5  5]]\n",
            "\n"
          ]
        }
      ]
    },
    {
      "cell_type": "code",
      "source": [
        "print(down)"
      ],
      "metadata": {
        "colab": {
          "base_uri": "https://localhost:8080/"
        },
        "id": "2sIhuvo_xt3h",
        "outputId": "41831903-9800-40bc-ac29-86051caaa7f9"
      },
      "execution_count": 84,
      "outputs": [
        {
          "output_type": "stream",
          "name": "stdout",
          "text": [
            "[[12 14 10]\n",
            " [ 9  9  8]\n",
            " [12  5  9]\n",
            " [ 9  7  8]\n",
            " [13  5  9]]\n"
          ]
        }
      ]
    },
    {
      "cell_type": "code",
      "source": [],
      "metadata": {
        "id": "gEc02DRYxxL8"
      },
      "execution_count": null,
      "outputs": []
    }
  ],
  "metadata": {
    "colab": {
      "provenance": [],
      "authorship_tag": "ABX9TyNR9VROQlypphXpuIO+BNwV",
      "include_colab_link": true
    },
    "kernelspec": {
      "display_name": "Python 3",
      "name": "python3"
    },
    "language_info": {
      "name": "python"
    }
  },
  "nbformat": 4,
  "nbformat_minor": 0
}